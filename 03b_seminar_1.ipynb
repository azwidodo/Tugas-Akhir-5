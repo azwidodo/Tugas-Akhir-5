{
 "cells": [
  {
   "cell_type": "code",
   "execution_count": 2,
   "metadata": {},
   "outputs": [],
   "source": [
    "import matplotlib.pyplot as plt\n",
    "import numpy as np\n",
    "import pandas as pd\n",
    "import ast\n",
    "from nltk.tokenize.treebank import TreebankWordDetokenizer\n",
    "from collections import Counter"
   ]
  },
  {
   "cell_type": "markdown",
   "metadata": {},
   "source": [
    "### GloVe"
   ]
  },
  {
   "cell_type": "code",
   "execution_count": 2,
   "metadata": {},
   "outputs": [
    {
     "data": {
      "text/html": [
       "<div>\n",
       "<style scoped>\n",
       "    .dataframe tbody tr th:only-of-type {\n",
       "        vertical-align: middle;\n",
       "    }\n",
       "\n",
       "    .dataframe tbody tr th {\n",
       "        vertical-align: top;\n",
       "    }\n",
       "\n",
       "    .dataframe thead th {\n",
       "        text-align: right;\n",
       "    }\n",
       "</style>\n",
       "<table border=\"1\" class=\"dataframe\">\n",
       "  <thead>\n",
       "    <tr style=\"text-align: right;\">\n",
       "      <th></th>\n",
       "      <th>review</th>\n",
       "      <th>text</th>\n",
       "      <th>rating</th>\n",
       "      <th>sentiment</th>\n",
       "      <th>detoken</th>\n",
       "    </tr>\n",
       "  </thead>\n",
       "  <tbody>\n",
       "    <tr>\n",
       "      <th>0</th>\n",
       "      <td>This started out strong, but it went downhill ...</td>\n",
       "      <td>[start, out, strong, but, go, downhill, fairly...</td>\n",
       "      <td>1</td>\n",
       "      <td>0</td>\n",
       "      <td>start out strong but go downhill fairly quickl...</td>\n",
       "    </tr>\n",
       "    <tr>\n",
       "      <th>1</th>\n",
       "      <td>A decently written YA book, but I can't even c...</td>\n",
       "      <td>[decently, write, ya, book, but, can, even, co...</td>\n",
       "      <td>1</td>\n",
       "      <td>0</td>\n",
       "      <td>decently write ya book but can even consider e...</td>\n",
       "    </tr>\n",
       "    <tr>\n",
       "      <th>2</th>\n",
       "      <td>Ugh...I tried, I honestly tried. I'm a huge fa...</td>\n",
       "      <td>[ugh, try, honestly, try, huge, fan, scott, we...</td>\n",
       "      <td>1</td>\n",
       "      <td>0</td>\n",
       "      <td>ugh try honestly try huge fan scott westerfeld...</td>\n",
       "    </tr>\n",
       "    <tr>\n",
       "      <th>3</th>\n",
       "      <td>Main points: \\n 1. Never ever introduce a poin...</td>\n",
       "      <td>[main, point, never, ever, introduce, point, v...</td>\n",
       "      <td>1</td>\n",
       "      <td>0</td>\n",
       "      <td>main point never ever introduce point view sid...</td>\n",
       "    </tr>\n",
       "    <tr>\n",
       "      <th>4</th>\n",
       "      <td>Why do all YA books have to have a love triang...</td>\n",
       "      <td>[all, ya, book, love, triangle, now, just, who...</td>\n",
       "      <td>1</td>\n",
       "      <td>0</td>\n",
       "      <td>all ya book love triangle now just whole world...</td>\n",
       "    </tr>\n",
       "  </tbody>\n",
       "</table>\n",
       "</div>"
      ],
      "text/plain": [
       "                                              review  \\\n",
       "0  This started out strong, but it went downhill ...   \n",
       "1  A decently written YA book, but I can't even c...   \n",
       "2  Ugh...I tried, I honestly tried. I'm a huge fa...   \n",
       "3  Main points: \\n 1. Never ever introduce a poin...   \n",
       "4  Why do all YA books have to have a love triang...   \n",
       "\n",
       "                                                text  rating  sentiment  \\\n",
       "0  [start, out, strong, but, go, downhill, fairly...       1          0   \n",
       "1  [decently, write, ya, book, but, can, even, co...       1          0   \n",
       "2  [ugh, try, honestly, try, huge, fan, scott, we...       1          0   \n",
       "3  [main, point, never, ever, introduce, point, v...       1          0   \n",
       "4  [all, ya, book, love, triangle, now, just, who...       1          0   \n",
       "\n",
       "                                             detoken  \n",
       "0  start out strong but go downhill fairly quickl...  \n",
       "1  decently write ya book but can even consider e...  \n",
       "2  ugh try honestly try huge fan scott westerfeld...  \n",
       "3  main point never ever introduce point view sid...  \n",
       "4  all ya book love triangle now just whole world...  "
      ]
     },
     "execution_count": 2,
     "metadata": {},
     "output_type": "execute_result"
    }
   ],
   "source": [
    "df = pd.read_csv(\"cleaned_data/cleaned_reviews_3.csv\")\n",
    "df[\"text\"] = df[\"text\"].apply(lambda x: ast.literal_eval(x))\n",
    "df[\"detoken\"] = df[\"text\"].apply(lambda y: TreebankWordDetokenizer().tokenize(y))\n",
    "df.head()"
   ]
  },
  {
   "cell_type": "code",
   "execution_count": 4,
   "metadata": {},
   "outputs": [
    {
     "data": {
      "text/plain": [
       "11400"
      ]
     },
     "execution_count": 4,
     "metadata": {},
     "output_type": "execute_result"
    }
   ],
   "source": [
    "(df[\"rating\"] == 0).count()"
   ]
  },
  {
   "cell_type": "code",
   "execution_count": 3,
   "metadata": {},
   "outputs": [
    {
     "name": "stdout",
     "output_type": "stream",
     "text": [
      "There are 1036091 in total and the vocab size is 27338.\n"
     ]
    }
   ],
   "source": [
    "all_words = [word for text in df[\"text\"] for word in text]\n",
    "vocab = list(set(all_words))\n",
    "\n",
    "print(f\"There are {len(all_words)} in total and the vocab size is {len(vocab)}.\")"
   ]
  },
  {
   "cell_type": "code",
   "execution_count": 4,
   "metadata": {},
   "outputs": [],
   "source": [
    "embeddings_dict = {}\n",
    "with open(\"glove.42B.300d.txt\", \"r\", encoding=\"utf-8\") as f:\n",
    "    for line in f:\n",
    "        values = line.split()\n",
    "        token = values[0]\n",
    "        vector = np.asarray(values[1:], \"float32\")\n",
    "        embeddings_dict[token] = vector"
   ]
  },
  {
   "cell_type": "code",
   "execution_count": 8,
   "metadata": {},
   "outputs": [
    {
     "name": "stdout",
     "output_type": "stream",
     "text": [
      "Glove embeddings cover 92.56% of vocabulary and 99.71% of all text.\n"
     ]
    }
   ],
   "source": [
    "def vocab_build(review_set):\n",
    "\n",
    "    vocab = Counter()\n",
    "\n",
    "    for review in review_set:\n",
    "        for token in review:\n",
    "            vocab[token] += 1\n",
    "\n",
    "    return vocab\n",
    "\n",
    "def embedding_coverage(review_set, embeddings_dict):\n",
    "    \n",
    "    vocab = vocab_build(review_set)\n",
    "\n",
    "    covered = {}\n",
    "    word_count = {}\n",
    "    oov = {}\n",
    "    covered_num = 0\n",
    "    oov_num = 0\n",
    "\n",
    "    for word in vocab:\n",
    "        try:\n",
    "            covered[word] = embeddings_dict[word]\n",
    "            covered_num += vocab[word]\n",
    "            word_count[word] = vocab[word]\n",
    "        \n",
    "        except:\n",
    "            oov[word] = vocab[word]\n",
    "            oov_num += oov[word]\n",
    "\n",
    "    vocab_coverage = len(covered) / len(vocab) * 100\n",
    "    text_coverage = covered_num / (covered_num + oov_num) * 100\n",
    "    \n",
    "    return word_count, oov, vocab_coverage, text_coverage\n",
    "\n",
    "####\n",
    "\n",
    "all_covered, all_oov, vocab_coverage, text_coverage = embedding_coverage(df[\"text\"], embeddings_dict)\n",
    "\n",
    "print(f\"Glove embeddings cover {round(vocab_coverage, 2)}% of vocabulary and {round(text_coverage, 2)}% of all text.\")"
   ]
  },
  {
   "cell_type": "markdown",
   "metadata": {},
   "source": [
    "### Activation Function"
   ]
  },
  {
   "cell_type": "code",
   "execution_count": 6,
   "metadata": {},
   "outputs": [],
   "source": [
    "sigmoid = lambda x: 1 / (1 + np.exp(-x))\n",
    "relu = lambda x: max(0, x)\n",
    "tanh = lambda x: np.tanh(x)"
   ]
  },
  {
   "cell_type": "code",
   "execution_count": 19,
   "metadata": {},
   "outputs": [
    {
     "data": {
      "image/png": "[encoded data removed]",
      "text/plain": [
       "<Figure size 432x288 with 1 Axes>"
      ]
     },
     "metadata": {
      "needs_background": "light"
     },
     "output_type": "display_data"
    }
   ],
   "source": [
    "x = np.arange(0, 100, 1)\n",
    "y = np.exp(x) / np.sum(np.exp(x))\n",
    "\n",
    "plt.rcParams[\"font.size\"] = 14\n",
    "plt.plot(x, y, \"orangered\")\n",
    "plt.xlabel(\"x\")\n",
    "plt.ylabel(\"softmax(x)\")\n",
    "plt.title(\"Softmax\")\n",
    "plt.grid(True)\n",
    "plt.savefig(\"Softmax.png\", bbox_inches=\"tight\")\n"
   ]
  },
  {
   "cell_type": "code",
   "execution_count": 3,
   "metadata": {},
   "outputs": [
    {
     "data": {
      "text/html": [
       "<div>\n",
       "<style scoped>\n",
       "    .dataframe tbody tr th:only-of-type {\n",
       "        vertical-align: middle;\n",
       "    }\n",
       "\n",
       "    .dataframe tbody tr th {\n",
       "        vertical-align: top;\n",
       "    }\n",
       "\n",
       "    .dataframe thead th {\n",
       "        text-align: right;\n",
       "    }\n",
       "</style>\n",
       "<table border=\"1\" class=\"dataframe\">\n",
       "  <thead>\n",
       "    <tr style=\"text-align: left;\">\n",
       "      <th></th>\n",
       "      <th>review</th>\n",
       "      <th>text</th>\n",
       "      <th>rating</th>\n",
       "      <th>sentiment</th>\n",
       "    </tr>\n",
       "  </thead>\n",
       "  <tbody>\n",
       "    <tr>\n",
       "      <th>0</th>\n",
       "      <td>This started out strong, but it went downhill fairly quickly. It's not like there weren't good t...</td>\n",
       "      <td>['start', 'out', 'strong', 'go', 'downhill', 'fairly', 'quickly', 'not', 'like', 'there', 'weren...</td>\n",
       "      <td>1</td>\n",
       "      <td>0</td>\n",
       "    </tr>\n",
       "    <tr>\n",
       "      <th>1</th>\n",
       "      <td>A decently written YA book, but I can't even consider the ending to be one. More like its missin...</td>\n",
       "      <td>['decently', 'write', 'ya', 'book', 'can', 'even', 'consider', 'end', 'one', 'more', 'like', 'mi...</td>\n",
       "      <td>1</td>\n",
       "      <td>0</td>\n",
       "    </tr>\n",
       "    <tr>\n",
       "      <th>2</th>\n",
       "      <td>Ugh...I tried, I honestly tried. I'm a huge fan of Scott Westerfeld...the Uglies series is among...</td>\n",
       "      <td>['ugh', 'try', 'honestly', 'try', 'huge', 'fan', 'scott', 'westerfeld', 'uglies', 'series', 'amo...</td>\n",
       "      <td>1</td>\n",
       "      <td>0</td>\n",
       "    </tr>\n",
       "    <tr>\n",
       "      <th>3</th>\n",
       "      <td>I hate to give any book this low of a rating - I know what it takes to actually finish a manuscr...</td>\n",
       "      <td>['hate', 'give', 'any', 'book', 'low', 'rat', 'know', 'take', 'actually', 'finish', 'manuscript'...</td>\n",
       "      <td>1</td>\n",
       "      <td>0</td>\n",
       "    </tr>\n",
       "    <tr>\n",
       "      <th>...</th>\n",
       "      <td>...</td>\n",
       "      <td>...</td>\n",
       "      <td>...</td>\n",
       "      <td>...</td>\n",
       "    </tr>\n",
       "    <tr>\n",
       "      <th>13996</th>\n",
       "      <td>This was an awesome sequel to Moving in Neutral. I cannot wait for the third book as this one le...</td>\n",
       "      <td>['awesome', 'sequel', 'move', 'neutral', 'can', 'not', 'wait', 'third', 'book', 'one', 'leave', ...</td>\n",
       "      <td>5</td>\n",
       "      <td>1</td>\n",
       "    </tr>\n",
       "    <tr>\n",
       "      <th>13997</th>\n",
       "      <td>I don't know where to begin except I didn't want this book to end. It's so beautiful I could jus...</td>\n",
       "      <td>['don', 'know', 'begin', 'except', 'didn', 'want', 'book', 'end', 'beautiful', 'could', 'just', ...</td>\n",
       "      <td>5</td>\n",
       "      <td>1</td>\n",
       "    </tr>\n",
       "    <tr>\n",
       "      <th>13998</th>\n",
       "      <td>an amazing read - surprising, original and really takes you by storm. \\n Ruby was annoying at fi...</td>\n",
       "      <td>['amaze', 'read', 'surprise', 'original', 'really', 'take', 'storm', 'ruby', 'annoy', 'first', '...</td>\n",
       "      <td>5</td>\n",
       "      <td>1</td>\n",
       "    </tr>\n",
       "    <tr>\n",
       "      <th>13999</th>\n",
       "      <td>Easy summertime read that I flew through. likeable characters with enough going on to keep your ...</td>\n",
       "      <td>['easy', 'summertime', 'read', 'fly', 'through', 'likeable', 'character', 'with', 'enough', 'go'...</td>\n",
       "      <td>5</td>\n",
       "      <td>1</td>\n",
       "    </tr>\n",
       "  </tbody>\n",
       "</table>\n",
       "<p>14000 rows × 4 columns</p>\n",
       "</div>"
      ],
      "text/plain": [
       "      review                                                                                                \\\n",
       "0      This started out strong, but it went downhill fairly quickly. It's not like there weren't good t...   \n",
       "1      A decently written YA book, but I can't even consider the ending to be one. More like its missin...   \n",
       "2      Ugh...I tried, I honestly tried. I'm a huge fan of Scott Westerfeld...the Uglies series is among...   \n",
       "3      I hate to give any book this low of a rating - I know what it takes to actually finish a manuscr...   \n",
       "...                                                                                                    ...   \n",
       "13996  This was an awesome sequel to Moving in Neutral. I cannot wait for the third book as this one le...   \n",
       "13997  I don't know where to begin except I didn't want this book to end. It's so beautiful I could jus...   \n",
       "13998  an amazing read - surprising, original and really takes you by storm. \\n Ruby was annoying at fi...   \n",
       "13999  Easy summertime read that I flew through. likeable characters with enough going on to keep your ...   \n",
       "\n",
       "      text                                                                                                  \\\n",
       "0      ['start', 'out', 'strong', 'go', 'downhill', 'fairly', 'quickly', 'not', 'like', 'there', 'weren...   \n",
       "1      ['decently', 'write', 'ya', 'book', 'can', 'even', 'consider', 'end', 'one', 'more', 'like', 'mi...   \n",
       "2      ['ugh', 'try', 'honestly', 'try', 'huge', 'fan', 'scott', 'westerfeld', 'uglies', 'series', 'amo...   \n",
       "3      ['hate', 'give', 'any', 'book', 'low', 'rat', 'know', 'take', 'actually', 'finish', 'manuscript'...   \n",
       "...                                                                                                    ...   \n",
       "13996  ['awesome', 'sequel', 'move', 'neutral', 'can', 'not', 'wait', 'third', 'book', 'one', 'leave', ...   \n",
       "13997  ['don', 'know', 'begin', 'except', 'didn', 'want', 'book', 'end', 'beautiful', 'could', 'just', ...   \n",
       "13998  ['amaze', 'read', 'surprise', 'original', 'really', 'take', 'storm', 'ruby', 'annoy', 'first', '...   \n",
       "13999  ['easy', 'summertime', 'read', 'fly', 'through', 'likeable', 'character', 'with', 'enough', 'go'...   \n",
       "\n",
       "       rating  sentiment  \n",
       "0      1       0          \n",
       "1      1       0          \n",
       "2      1       0          \n",
       "3      1       0          \n",
       "...       ...        ...  \n",
       "13996  5       1          \n",
       "13997  5       1          \n",
       "13998  5       1          \n",
       "13999  5       1          \n",
       "\n",
       "[14000 rows x 4 columns]"
      ]
     },
     "metadata": {},
     "output_type": "display_data"
    }
   ],
   "source": [
    "df = pd.read_csv(\"cleaned_data/cleaned_reviews_4.csv\")\n",
    "with pd.option_context(\"display.max_rows\", 8, \"display.max_colwidth\", 100, \"display.colheader_justify\", \"left\"):\n",
    "    display(df)"
   ]
  }
 ],
 "metadata": {
  "interpreter": {
   "hash": "bbdeae21cd698169d80b8f85757407d35b6d9920a79c4c6b4fbd15284371fc7c"
  },
  "kernelspec": {
   "display_name": "Python 3.9.7 ('final')",
   "language": "python",
   "name": "python3"
  },
  "language_info": {
   "codemirror_mode": {
    "name": "ipython",
    "version": 3
   },
   "file_extension": ".py",
   "mimetype": "text/x-python",
   "name": "python",
   "nbconvert_exporter": "python",
   "pygments_lexer": "ipython3",
   "version": "3.9.7"
  },
  "orig_nbformat": 4
 },
 "nbformat": 4,
 "nbformat_minor": 2
}
