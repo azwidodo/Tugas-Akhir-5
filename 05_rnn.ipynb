{
  "cells": [
    {
      "cell_type": "code",
      "execution_count": 24,
      "metadata": {
        "id": "BZCVbda0DYq5"
      },
      "outputs": [],
      "source": [
        "import ast\n",
        "import pandas as pd\n",
        "import numpy as np\n",
        "import matplotlib.pyplot as plt\n",
        "from utils import *\n",
        "\n",
        "from nltk.tokenize.treebank import TreebankWordDetokenizer\n",
        "from sklearn.model_selection import train_test_split\n",
        "\n",
        "from keras.preprocessing.text import Tokenizer\n",
        "from keras.preprocessing.sequence import pad_sequences\n",
        "from keras import regularizers\n",
        "\n",
        "from keras.models import Sequential, Model\n",
        "from keras.layers import Embedding, Dense, Flatten, Conv1D, Dropout, MaxPooling1D, Activation, GlobalMaxPooling1D, Input, Conv2D, Reshape, LSTM, Bidirectional\n",
        "from tensorflow.keras.optimizers import Adam, SGD\n",
        "\n",
        "from keras.callbacks import ModelCheckpoint, EarlyStopping\n",
        "from tensorflow.keras.utils import to_categorical\n",
        "import tensorflow.random as random\n",
        "\n",
        "seed = 111\n",
        "random.set_seed(seed)\n",
        "np.random.seed(seed)"
      ]
    },
    {
      "cell_type": "code",
      "execution_count": 2,
      "metadata": {},
      "outputs": [
        {
          "data": {
            "text/html": [
              "<div>\n",
              "<style scoped>\n",
              "    .dataframe tbody tr th:only-of-type {\n",
              "        vertical-align: middle;\n",
              "    }\n",
              "\n",
              "    .dataframe tbody tr th {\n",
              "        vertical-align: top;\n",
              "    }\n",
              "\n",
              "    .dataframe thead th {\n",
              "        text-align: right;\n",
              "    }\n",
              "</style>\n",
              "<table border=\"1\" class=\"dataframe\">\n",
              "  <thead>\n",
              "    <tr style=\"text-align: right;\">\n",
              "      <th></th>\n",
              "      <th>review</th>\n",
              "      <th>text</th>\n",
              "      <th>rating</th>\n",
              "      <th>sentiment</th>\n",
              "      <th>detoken</th>\n",
              "    </tr>\n",
              "  </thead>\n",
              "  <tbody>\n",
              "    <tr>\n",
              "      <th>0</th>\n",
              "      <td>This started out strong, but it went downhill ...</td>\n",
              "      <td>[start, out, strong, but, go, downhill, fairly...</td>\n",
              "      <td>1</td>\n",
              "      <td>0</td>\n",
              "      <td>start out strong but go downhill fairly quickl...</td>\n",
              "    </tr>\n",
              "    <tr>\n",
              "      <th>1</th>\n",
              "      <td>A decently written YA book, but I can't even c...</td>\n",
              "      <td>[decently, write, ya, book, but, can, even, co...</td>\n",
              "      <td>1</td>\n",
              "      <td>0</td>\n",
              "      <td>decently write ya book but can even consider e...</td>\n",
              "    </tr>\n",
              "    <tr>\n",
              "      <th>2</th>\n",
              "      <td>Ugh...I tried, I honestly tried. I'm a huge fa...</td>\n",
              "      <td>[ugh, try, honestly, try, huge, fan, scott, we...</td>\n",
              "      <td>1</td>\n",
              "      <td>0</td>\n",
              "      <td>ugh try honestly try huge fan scott westerfeld...</td>\n",
              "    </tr>\n",
              "    <tr>\n",
              "      <th>3</th>\n",
              "      <td>Main points: \\n 1. Never ever introduce a poin...</td>\n",
              "      <td>[main, point, never, ever, introduce, point, v...</td>\n",
              "      <td>1</td>\n",
              "      <td>0</td>\n",
              "      <td>main point never ever introduce point view sid...</td>\n",
              "    </tr>\n",
              "    <tr>\n",
              "      <th>4</th>\n",
              "      <td>Why do all YA books have to have a love triang...</td>\n",
              "      <td>[all, ya, book, love, triangle, now, just, who...</td>\n",
              "      <td>1</td>\n",
              "      <td>0</td>\n",
              "      <td>all ya book love triangle now just whole world...</td>\n",
              "    </tr>\n",
              "  </tbody>\n",
              "</table>\n",
              "</div>"
            ],
            "text/plain": [
              "                                              review  \\\n",
              "0  This started out strong, but it went downhill ...   \n",
              "1  A decently written YA book, but I can't even c...   \n",
              "2  Ugh...I tried, I honestly tried. I'm a huge fa...   \n",
              "3  Main points: \\n 1. Never ever introduce a poin...   \n",
              "4  Why do all YA books have to have a love triang...   \n",
              "\n",
              "                                                text  rating  sentiment  \\\n",
              "0  [start, out, strong, but, go, downhill, fairly...       1          0   \n",
              "1  [decently, write, ya, book, but, can, even, co...       1          0   \n",
              "2  [ugh, try, honestly, try, huge, fan, scott, we...       1          0   \n",
              "3  [main, point, never, ever, introduce, point, v...       1          0   \n",
              "4  [all, ya, book, love, triangle, now, just, who...       1          0   \n",
              "\n",
              "                                             detoken  \n",
              "0  start out strong but go downhill fairly quickl...  \n",
              "1  decently write ya book but can even consider e...  \n",
              "2  ugh try honestly try huge fan scott westerfeld...  \n",
              "3  main point never ever introduce point view sid...  \n",
              "4  all ya book love triangle now just whole world...  "
            ]
          },
          "execution_count": 2,
          "metadata": {},
          "output_type": "execute_result"
        }
      ],
      "source": [
        "df = pd.read_csv(\"cleaned_data/cleaned_reviews_3.csv\")\n",
        "df[\"text\"] = df[\"text\"].apply(lambda x: ast.literal_eval(x))\n",
        "df[\"detoken\"] = df[\"text\"].apply(lambda y: TreebankWordDetokenizer().tokenize(y))\n",
        "df.head()"
      ]
    },
    {
      "cell_type": "code",
      "execution_count": 3,
      "metadata": {},
      "outputs": [
        {
          "name": "stdout",
          "output_type": "stream",
          "text": [
            "<class 'pandas.core.frame.DataFrame'>\n",
            "RangeIndex: 11400 entries, 0 to 11399\n",
            "Data columns (total 5 columns):\n",
            " #   Column     Non-Null Count  Dtype \n",
            "---  ------     --------------  ----- \n",
            " 0   review     11400 non-null  object\n",
            " 1   text       11400 non-null  object\n",
            " 2   rating     11400 non-null  int64 \n",
            " 3   sentiment  11400 non-null  int64 \n",
            " 4   detoken    11400 non-null  object\n",
            "dtypes: int64(2), object(3)\n",
            "memory usage: 445.4+ KB\n"
          ]
        }
      ],
      "source": [
        "df.info()"
      ]
    },
    {
      "cell_type": "code",
      "execution_count": 4,
      "metadata": {
        "colab": {
          "base_uri": "https://localhost:8080/"
        },
        "id": "AcImdoAtDYq_",
        "outputId": "9ee4729c-5cd5-46b8-c308-0e1b5077b8ca"
      },
      "outputs": [
        {
          "name": "stdout",
          "output_type": "stream",
          "text": [
            "There are 515575 train words in total and the vocabulary size is 18590.\n"
          ]
        }
      ],
      "source": [
        "df_pos, df_neg = split_sentiment(df)\n",
        "df_train, df_test = split_train_test(df_pos, df_neg, 222)\n",
        "\n",
        "train_words = [word for text in df_train[\"text\"] for word in text]\n",
        "train_text_length = [len(text) for text in df_train[\"text\"]]\n",
        "\n",
        "vocab = list(set(train_words))\n",
        "vocab_size = len(vocab)\n",
        "\n",
        "print(f\"There are {len(train_words)} train words in total and the vocabulary size is {vocab_size}.\")"
      ]
    },
    {
      "cell_type": "code",
      "execution_count": 5,
      "metadata": {
        "colab": {
          "base_uri": "https://localhost:8080/"
        },
        "id": "o1x1qaEWDYrA",
        "outputId": "96744c30-8f17-4aa9-c538-a91bc2eee763"
      },
      "outputs": [
        {
          "name": "stdout",
          "output_type": "stream",
          "text": [
            "150\n",
            "(9120, 150)\n",
            "(2280, 150)\n",
            "(9120,)\n",
            "(2280,)\n",
            "Found 18616 unique tokens\n"
          ]
        }
      ],
      "source": [
        "train_data = df_train[\"detoken\"].tolist()\n",
        "test_data = df_test[\"detoken\"].tolist()\n",
        "\n",
        "tokenizer = Tokenizer(num_words=15000)\n",
        "tokenizer.fit_on_texts(train_data)\n",
        "\n",
        "word_index = tokenizer.word_index\n",
        "\n",
        "train_sequences = tokenizer.texts_to_sequences(train_data)\n",
        "test_sequences = tokenizer.texts_to_sequences(test_data)\n",
        "\n",
        "# max_length = max(max([len(x) for x in train_sequences]), max([len(x) for x in test_sequences]))\n",
        "max_length = 150\n",
        "\n",
        "x_train_padded = pad_sequences(train_sequences, maxlen=max_length, padding=\"post\")\n",
        "x_test_padded = pad_sequences(test_sequences, maxlen=max_length, padding=\"post\")\n",
        "\n",
        "ytrain, ytest = np.asarray(df_train[\"sentiment\"]), np.asarray(df_test[\"sentiment\"])\n",
        "\n",
        "print(max_length)\n",
        "print(x_train_padded.shape)\n",
        "print(x_test_padded.shape)\n",
        "print(ytrain.shape)\n",
        "print(ytest.shape)\n",
        "print(f\"Found {len(word_index)} unique tokens\")"
      ]
    },
    {
      "cell_type": "code",
      "execution_count": 6,
      "metadata": {},
      "outputs": [],
      "source": [
        "embeddings_dict = {}\n",
        "with open(\"glove.42B.300d.txt\", \"r\", encoding=\"utf-8\") as f:\n",
        "    for line in f:\n",
        "        values = line.split()\n",
        "        token = values[0]\n",
        "        vector = np.asarray(values[1:], \"float32\")\n",
        "        embeddings_dict[token] = vector"
      ]
    },
    {
      "cell_type": "code",
      "execution_count": 7,
      "metadata": {},
      "outputs": [
        {
          "name": "stdout",
          "output_type": "stream",
          "text": [
            "Glove embeddings cover 95.22% of vocabulary and 99.79% text in training set\n",
            "Glove embeddings cover 97.13% of vocabulary and 99.76% text in testing set\n"
          ]
        }
      ],
      "source": [
        "vocab_train = vocab_build(df_train[\"text\"])\n",
        "vocab_test = vocab_build(df_test[\"text\"])\n",
        "\n",
        "train_covered, train_oov, train_vocab_coverage, train_text_coverage = embedding_coverage(df_train[\"text\"], embeddings_dict)\n",
        "test_covered, test_oov, test_vocab_coverage, test_text_coverage = embedding_coverage(df_test[\"text\"], embeddings_dict)\n",
        "\n",
        "print(f\"Glove embeddings cover {round(train_vocab_coverage, 2)}% of vocabulary and {round(train_text_coverage, 2)}% text in training set\")\n",
        "print(f\"Glove embeddings cover {round(test_vocab_coverage, 2)}% of vocabulary and {round(test_text_coverage, 2)}% text in testing set\")"
      ]
    },
    {
      "cell_type": "code",
      "execution_count": 10,
      "metadata": {},
      "outputs": [],
      "source": [
        "EMBEDDING_DIM = 300\n",
        "MAX_WORDS = 15000\n",
        "vocab_size = min(len(word_index) + 1, MAX_WORDS)\n",
        "\n",
        "embedding_matrix = np.zeros((vocab_size, EMBEDDING_DIM))\n",
        "\n",
        "for word, i in word_index.items():\n",
        "    if i >= MAX_WORDS:\n",
        "        continue\n",
        "    \n",
        "    try:\n",
        "        embedding_vector = embeddings_dict[word]\n",
        "        embedding_matrix[i] = embedding_vector\n",
        "    \n",
        "    except KeyError:\n",
        "        embedding_vector = np.zeros(EMBEDDING_DIM)\n",
        "        embedding_matrix[i] = embedding_vector\n",
        "\n",
        "embedding_layer = Embedding(vocab_size, EMBEDDING_DIM, weights=[embedding_matrix], input_length=max_length, trainable=False)\n",
        "\n",
        "del(embedding_matrix)"
      ]
    },
    {
      "cell_type": "markdown",
      "metadata": {},
      "source": [
        "#### Model - Sequential"
      ]
    },
    {
      "cell_type": "code",
      "execution_count": 31,
      "metadata": {},
      "outputs": [
        {
          "name": "stdout",
          "output_type": "stream",
          "text": [
            "Model: \"sequential_6\"\n",
            "_________________________________________________________________\n",
            " Layer (type)                Output Shape              Param #   \n",
            "=================================================================\n",
            " embedding_1 (Embedding)     (None, 150, 300)          4500000   \n",
            "                                                                 \n",
            " bidirectional (Bidirectiona  (None, 128)              186880    \n",
            " l)                                                              \n",
            "                                                                 \n",
            " dropout_6 (Dropout)         (None, 128)               0         \n",
            "                                                                 \n",
            " dense_16 (Dense)            (None, 32)                4128      \n",
            "                                                                 \n",
            " dense_17 (Dense)            (None, 1)                 33        \n",
            "                                                                 \n",
            "=================================================================\n",
            "Total params: 4,691,041\n",
            "Trainable params: 191,041\n",
            "Non-trainable params: 4,500,000\n",
            "_________________________________________________________________\n",
            "None\n"
          ]
        }
      ],
      "source": [
        "model = Sequential()\n",
        "model.add(embedding_layer)\n",
        "model.add(Bidirectional(LSTM(64)))\n",
        "model.add(Dropout(0.5))\n",
        "model.add(Dense(32, activation=\"relu\"))\n",
        "model.add(Dense(1, activation='sigmoid'))\n",
        "\n",
        "print(model.summary())"
      ]
    },
    {
      "cell_type": "code",
      "execution_count": 32,
      "metadata": {},
      "outputs": [
        {
          "name": "stdout",
          "output_type": "stream",
          "text": [
            "Epoch 1/5\n",
            "114/114 [==============================] - 17s 132ms/step - loss: 0.6650 - accuracy: 0.6120 - val_loss: 0.8414 - val_accuracy: 0.6606\n",
            "Epoch 2/5\n",
            "114/114 [==============================] - 14s 125ms/step - loss: 0.5969 - accuracy: 0.6853 - val_loss: 0.9337 - val_accuracy: 0.4589\n",
            "Epoch 3/5\n",
            "114/114 [==============================] - 15s 127ms/step - loss: 0.5806 - accuracy: 0.7055 - val_loss: 0.6874 - val_accuracy: 0.6771\n",
            "Epoch 4/5\n",
            "114/114 [==============================] - 17s 146ms/step - loss: 0.5504 - accuracy: 0.7294 - val_loss: 0.6145 - val_accuracy: 0.7922\n",
            "Epoch 5/5\n",
            "114/114 [==============================] - 17s 152ms/step - loss: 0.5351 - accuracy: 0.7381 - val_loss: 0.7416 - val_accuracy: 0.6891\n"
          ]
        }
      ],
      "source": [
        "# Compile model\n",
        "\n",
        "EPOCHS = 5\n",
        "LEARNING_RATE = 0.05\n",
        "\n",
        "optimizer = Adam(learning_rate=LEARNING_RATE)\n",
        "\n",
        "model.compile(optimizer=optimizer, loss=\"binary_crossentropy\", metrics=[\"accuracy\"])\n",
        "\n",
        "# Fit model\n",
        "\n",
        "BATCH_SIZE = 64\n",
        "\n",
        "# callbacks = [EarlyStopping(monitor='val_loss')]\n",
        "\n",
        "history = model.fit(x_train_padded, ytrain, batch_size=BATCH_SIZE, epochs=EPOCHS, verbose=1, validation_split=0.2)"
      ]
    },
    {
      "cell_type": "code",
      "execution_count": 33,
      "metadata": {},
      "outputs": [
        {
          "data": {
            "image/png": "[encoded data removed]",
            "text/plain": [
              "<Figure size 432x288 with 1 Axes>"
            ]
          },
          "metadata": {
            "needs_background": "light"
          },
          "output_type": "display_data"
        },
        {
          "data": {
            "image/png": "[encoded data removed]",
            "text/plain": [
              "<Figure size 432x288 with 1 Axes>"
            ]
          },
          "metadata": {
            "needs_background": "light"
          },
          "output_type": "display_data"
        }
      ],
      "source": [
        "# Plot accuracy and loss\n",
        "\n",
        "plot_history(history)"
      ]
    },
    {
      "cell_type": "code",
      "execution_count": 34,
      "metadata": {},
      "outputs": [
        {
          "name": "stdout",
          "output_type": "stream",
          "text": [
            "72/72 - 3s - loss: 0.5509 - accuracy: 0.7474 - 3s/epoch - 35ms/step\n",
            "Test accuracy: 0.7473683953285217\n"
          ]
        }
      ],
      "source": [
        "# Evaluate model\n",
        "\n",
        "loss, accuracy = model.evaluate(x_test_padded, ytest, verbose=2)\n",
        "\n",
        "print(f\"Test accuracy: {accuracy}\")"
      ]
    },
    {
      "cell_type": "markdown",
      "metadata": {},
      "source": [
        "#### Model - Input"
      ]
    },
    {
      "cell_type": "code",
      "execution_count": 11,
      "metadata": {},
      "outputs": [
        {
          "name": "stdout",
          "output_type": "stream",
          "text": [
            "Model: \"model_1\"\n",
            "_________________________________________________________________\n",
            " Layer (type)                Output Shape              Param #   \n",
            "=================================================================\n",
            " input_2 (InputLayer)        [(None, 150)]             0         \n",
            "                                                                 \n",
            " embedding_1 (Embedding)     (None, 150, 300)          4500000   \n",
            "                                                                 \n",
            " lstm_1 (LSTM)               (None, 150, 128)          219648    \n",
            "                                                                 \n",
            " dropout_1 (Dropout)         (None, 150, 128)          0         \n",
            "                                                                 \n",
            " dense_2 (Dense)             (None, 150, 64)           8256      \n",
            "                                                                 \n",
            " dense_3 (Dense)             (None, 150, 1)            65        \n",
            "                                                                 \n",
            "=================================================================\n",
            "Total params: 4,727,969\n",
            "Trainable params: 227,969\n",
            "Non-trainable params: 4,500,000\n",
            "_________________________________________________________________\n",
            "None\n"
          ]
        }
      ],
      "source": [
        "sequence_input = Input(shape=(max_length,), dtype=\"int32\")\n",
        "embedded_sequences = embedding_layer(sequence_input)\n",
        "# x = Conv1D(256, 10, activation=\"relu\")(embedded_sequences)\n",
        "x = LSTM(128, return_sequences=True)(embedded_sequences)\n",
        "x = Dropout(0.2)(x)\n",
        "x = Dense(64, activation='relu')(x)\n",
        "preds = Dense(1, activation='sigmoid')(x)\n",
        "\n",
        "model = Model(sequence_input, preds)\n",
        "\n",
        "print(model.summary())"
      ]
    },
    {
      "cell_type": "code",
      "execution_count": 12,
      "metadata": {
        "id": "yybMVpy9KxtE"
      },
      "outputs": [],
      "source": [
        "# Compile model\n",
        "\n",
        "EPOCHS = 10\n",
        "LEARNING_RATE = 0.001\n",
        "# DECAY_RATE = LEARNING_RATE / EPOCHS\n",
        "\n",
        "optimizer = Adam(learning_rate=LEARNING_RATE)\n",
        "\n",
        "model.compile(optimizer=optimizer, loss=\"binary_crossentropy\", metrics=[\"accuracy\"])"
      ]
    },
    {
      "cell_type": "code",
      "execution_count": null,
      "metadata": {},
      "outputs": [],
      "source": [
        "# Fit model\n",
        "\n",
        "BATCH_SIZE = 64\n",
        "\n",
        "# callbacks = [EarlyStopping(monitor='val_loss')]\n",
        "\n",
        "history = model.fit(x_train_padded, ytrain, batch_size=BATCH_SIZE, epochs=EPOCHS, verbose=1, validation_split=0.2)"
      ]
    },
    {
      "cell_type": "code",
      "execution_count": 16,
      "metadata": {
        "id": "IFuqTC4DAy6L"
      },
      "outputs": [
        {
          "data": {
            "image/png": "[encoded data removed]",
            "text/plain": [
              "<Figure size 432x288 with 1 Axes>"
            ]
          },
          "metadata": {
            "needs_background": "light"
          },
          "output_type": "display_data"
        },
        {
          "data": {
            "image/png": "[encoded data removed]",
            "text/plain": [
              "<Figure size 432x288 with 1 Axes>"
            ]
          },
          "metadata": {
            "needs_background": "light"
          },
          "output_type": "display_data"
        }
      ],
      "source": [
        "# Plot accuracy and loss\n",
        "plot_history(history)"
      ]
    },
    {
      "cell_type": "code",
      "execution_count": 17,
      "metadata": {
        "id": "HGelOCqODYrD"
      },
      "outputs": [
        {
          "name": "stdout",
          "output_type": "stream",
          "text": [
            "125/125 - 13s - loss: 0.9092 - accuracy: 0.8562 - 13s/epoch - 108ms/step\n",
            "Test accuracy: 0.856249988079071\n"
          ]
        }
      ],
      "source": [
        "# Evaluate model\n",
        "\n",
        "loss, accuracy = model.evaluate(x_test_padded, ytest, verbose=2)\n",
        "\n",
        "print(f\"Test accuracy: {accuracy}\")"
      ]
    }
  ],
  "metadata": {
    "accelerator": "GPU",
    "colab": {
      "name": "rnn.ipynb",
      "provenance": []
    },
    "interpreter": {
      "hash": "bbdeae21cd698169d80b8f85757407d35b6d9920a79c4c6b4fbd15284371fc7c"
    },
    "kernelspec": {
      "display_name": "Python 3.9.7 64-bit ('final': conda)",
      "language": "python",
      "name": "python3"
    },
    "language_info": {
      "codemirror_mode": {
        "name": "ipython",
        "version": 3
      },
      "file_extension": ".py",
      "mimetype": "text/x-python",
      "name": "python",
      "nbconvert_exporter": "python",
      "pygments_lexer": "ipython3",
      "version": "3.9.7"
    },
    "orig_nbformat": 4
  },
  "nbformat": 4,
  "nbformat_minor": 0
}
