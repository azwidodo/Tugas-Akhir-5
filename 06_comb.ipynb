{
 "cells": [
  {
   "cell_type": "code",
   "execution_count": 1,
   "metadata": {},
   "outputs": [],
   "source": [
    "import ast\n",
    "import pandas as pd\n",
    "import numpy as np\n",
    "from utils import *\n",
    "\n",
    "from nltk.tokenize.treebank import TreebankWordDetokenizer\n",
    "\n",
    "from keras.preprocessing.text import Tokenizer\n",
    "from keras.preprocessing.sequence import pad_sequences\n",
    "\n",
    "from keras.models import Sequential\n",
    "from keras.layers import Embedding, Dense, Flatten, Conv1D, Dropout, MaxPooling1D, LSTM, GRU\n",
    "from tensorflow.keras.optimizers import Adam\n",
    "from keras.callbacks import ModelCheckpoint, EarlyStopping\n",
    "from sklearn.metrics import confusion_matrix, accuracy_score, precision_score, recall_score\n",
    "import tensorflow.random as random\n",
    "\n",
    "seed = 111\n",
    "random.set_seed(seed)\n",
    "np.random.seed(seed)"
   ]
  },
  {
   "cell_type": "code",
   "execution_count": 2,
   "metadata": {},
   "outputs": [
    {
     "data": {
      "text/html": [
       "<div>\n",
       "<style scoped>\n",
       "    .dataframe tbody tr th:only-of-type {\n",
       "        vertical-align: middle;\n",
       "    }\n",
       "\n",
       "    .dataframe tbody tr th {\n",
       "        vertical-align: top;\n",
       "    }\n",
       "\n",
       "    .dataframe thead th {\n",
       "        text-align: right;\n",
       "    }\n",
       "</style>\n",
       "<table border=\"1\" class=\"dataframe\">\n",
       "  <thead>\n",
       "    <tr style=\"text-align: right;\">\n",
       "      <th></th>\n",
       "      <th>review</th>\n",
       "      <th>text</th>\n",
       "      <th>rating</th>\n",
       "      <th>sentiment</th>\n",
       "      <th>detoken</th>\n",
       "    </tr>\n",
       "  </thead>\n",
       "  <tbody>\n",
       "    <tr>\n",
       "      <th>0</th>\n",
       "      <td>This started out strong, but it went downhill ...</td>\n",
       "      <td>[start, out, strong, but, go, downhill, fairly...</td>\n",
       "      <td>1</td>\n",
       "      <td>0</td>\n",
       "      <td>start out strong but go downhill fairly quickl...</td>\n",
       "    </tr>\n",
       "    <tr>\n",
       "      <th>1</th>\n",
       "      <td>A decently written YA book, but I can't even c...</td>\n",
       "      <td>[decently, write, ya, book, but, can, even, co...</td>\n",
       "      <td>1</td>\n",
       "      <td>0</td>\n",
       "      <td>decently write ya book but can even consider e...</td>\n",
       "    </tr>\n",
       "    <tr>\n",
       "      <th>2</th>\n",
       "      <td>Ugh...I tried, I honestly tried. I'm a huge fa...</td>\n",
       "      <td>[ugh, try, honestly, try, huge, fan, scott, we...</td>\n",
       "      <td>1</td>\n",
       "      <td>0</td>\n",
       "      <td>ugh try honestly try huge fan scott westerfeld...</td>\n",
       "    </tr>\n",
       "    <tr>\n",
       "      <th>3</th>\n",
       "      <td>Main points: \\n 1. Never ever introduce a poin...</td>\n",
       "      <td>[main, point, never, ever, introduce, point, v...</td>\n",
       "      <td>1</td>\n",
       "      <td>0</td>\n",
       "      <td>main point never ever introduce point view sid...</td>\n",
       "    </tr>\n",
       "    <tr>\n",
       "      <th>4</th>\n",
       "      <td>Why do all YA books have to have a love triang...</td>\n",
       "      <td>[all, ya, book, love, triangle, now, just, who...</td>\n",
       "      <td>1</td>\n",
       "      <td>0</td>\n",
       "      <td>all ya book love triangle now just whole world...</td>\n",
       "    </tr>\n",
       "  </tbody>\n",
       "</table>\n",
       "</div>"
      ],
      "text/plain": [
       "                                              review  \\\n",
       "0  This started out strong, but it went downhill ...   \n",
       "1  A decently written YA book, but I can't even c...   \n",
       "2  Ugh...I tried, I honestly tried. I'm a huge fa...   \n",
       "3  Main points: \\n 1. Never ever introduce a poin...   \n",
       "4  Why do all YA books have to have a love triang...   \n",
       "\n",
       "                                                text  rating  sentiment  \\\n",
       "0  [start, out, strong, but, go, downhill, fairly...       1          0   \n",
       "1  [decently, write, ya, book, but, can, even, co...       1          0   \n",
       "2  [ugh, try, honestly, try, huge, fan, scott, we...       1          0   \n",
       "3  [main, point, never, ever, introduce, point, v...       1          0   \n",
       "4  [all, ya, book, love, triangle, now, just, who...       1          0   \n",
       "\n",
       "                                             detoken  \n",
       "0  start out strong but go downhill fairly quickl...  \n",
       "1  decently write ya book but can even consider e...  \n",
       "2  ugh try honestly try huge fan scott westerfeld...  \n",
       "3  main point never ever introduce point view sid...  \n",
       "4  all ya book love triangle now just whole world...  "
      ]
     },
     "execution_count": 2,
     "metadata": {},
     "output_type": "execute_result"
    }
   ],
   "source": [
    "df = pd.read_csv(\"cleaned_data/cleaned_reviews_3.csv\")\n",
    "df[\"text\"] = df[\"text\"].apply(lambda x: ast.literal_eval(x))\n",
    "df[\"detoken\"] = df[\"text\"].apply(lambda y: TreebankWordDetokenizer().tokenize(y))\n",
    "df.head()"
   ]
  },
  {
   "cell_type": "code",
   "execution_count": 3,
   "metadata": {},
   "outputs": [
    {
     "name": "stdout",
     "output_type": "stream",
     "text": [
      "<class 'pandas.core.frame.DataFrame'>\n",
      "RangeIndex: 11400 entries, 0 to 11399\n",
      "Data columns (total 5 columns):\n",
      " #   Column     Non-Null Count  Dtype \n",
      "---  ------     --------------  ----- \n",
      " 0   review     11400 non-null  object\n",
      " 1   text       11400 non-null  object\n",
      " 2   rating     11400 non-null  int64 \n",
      " 3   sentiment  11400 non-null  int64 \n",
      " 4   detoken    11400 non-null  object\n",
      "dtypes: int64(2), object(3)\n",
      "memory usage: 445.4+ KB\n"
     ]
    }
   ],
   "source": [
    "df.info()"
   ]
  },
  {
   "cell_type": "code",
   "execution_count": 3,
   "metadata": {},
   "outputs": [
    {
     "name": "stdout",
     "output_type": "stream",
     "text": [
      "There are 515575 train words in total and the vocabulary size is 18590.\n"
     ]
    }
   ],
   "source": [
    "df_pos, df_neg = split_sentiment(df)\n",
    "df_train, df_test = split_train_test(df_pos, df_neg, 222)\n",
    "\n",
    "train_words = [word for text in df_train[\"text\"] for word in text]\n",
    "train_text_length = [len(text) for text in df_train[\"text\"]]\n",
    "\n",
    "vocab = list(set(train_words))\n",
    "vocab_size = len(vocab)\n",
    "\n",
    "print(f\"There are {len(train_words)} train words in total and the vocabulary size is {vocab_size}.\")"
   ]
  },
  {
   "cell_type": "code",
   "execution_count": 22,
   "metadata": {},
   "outputs": [
    {
     "name": "stdout",
     "output_type": "stream",
     "text": [
      "100\n",
      "(9120, 100)\n",
      "(2280, 100)\n",
      "(9120,)\n",
      "(2280,)\n",
      "Found 18616 unique tokens\n"
     ]
    }
   ],
   "source": [
    "train_data = df_train[\"detoken\"].tolist()\n",
    "test_data = df_test[\"detoken\"].tolist()\n",
    "\n",
    "tokenizer = Tokenizer(num_words=15000)\n",
    "tokenizer.fit_on_texts(train_data)\n",
    "\n",
    "word_index = tokenizer.word_index\n",
    "\n",
    "train_sequences = tokenizer.texts_to_sequences(train_data)\n",
    "test_sequences = tokenizer.texts_to_sequences(test_data)\n",
    "\n",
    "# max_length = max(max([len(x) for x in train_sequences]), max([len(x) for x in test_sequences]))\n",
    "max_length = 100\n",
    "\n",
    "x_train_padded = pad_sequences(train_sequences, maxlen=max_length, padding=\"post\")\n",
    "x_test_padded = pad_sequences(test_sequences, maxlen=max_length, padding=\"post\")\n",
    "\n",
    "ytrain, ytest = np.asarray(df_train[\"sentiment\"]), np.asarray(df_test[\"sentiment\"])\n",
    "\n",
    "print(max_length)\n",
    "print(x_train_padded.shape)\n",
    "print(x_test_padded.shape)\n",
    "print(ytrain.shape)\n",
    "print(ytest.shape)\n",
    "print(f\"Found {len(word_index)} unique tokens\")"
   ]
  },
  {
   "cell_type": "code",
   "execution_count": 5,
   "metadata": {},
   "outputs": [],
   "source": [
    "embeddings_dict = {}\n",
    "with open(\"glove.42B.300d.txt\", \"r\", encoding=\"utf-8\") as f:\n",
    "    for line in f:\n",
    "        values = line.split()\n",
    "        token = values[0]\n",
    "        vector = np.asarray(values[1:], \"float32\")\n",
    "        embeddings_dict[token] = vector"
   ]
  },
  {
   "cell_type": "code",
   "execution_count": 6,
   "metadata": {},
   "outputs": [
    {
     "name": "stdout",
     "output_type": "stream",
     "text": [
      "Glove embeddings cover 95.22% of vocabulary and 99.79% text in training set\n",
      "Glove embeddings cover 97.13% of vocabulary and 99.76% text in testing set\n"
     ]
    }
   ],
   "source": [
    "vocab_train = vocab_build(df_train[\"text\"])\n",
    "vocab_test = vocab_build(df_test[\"text\"])\n",
    "\n",
    "train_covered, train_oov, train_vocab_coverage, train_text_coverage = embedding_coverage(df_train[\"text\"], embeddings_dict)\n",
    "test_covered, test_oov, test_vocab_coverage, test_text_coverage = embedding_coverage(df_test[\"text\"], embeddings_dict)\n",
    "\n",
    "print(f\"Glove embeddings cover {round(train_vocab_coverage, 2)}% of vocabulary and {round(train_text_coverage, 2)}% text in training set\")\n",
    "print(f\"Glove embeddings cover {round(test_vocab_coverage, 2)}% of vocabulary and {round(test_text_coverage, 2)}% text in testing set\")"
   ]
  },
  {
   "cell_type": "code",
   "execution_count": 23,
   "metadata": {},
   "outputs": [],
   "source": [
    "EMBEDDING_DIM = 300\n",
    "MAX_WORDS = 15000\n",
    "vocab_size = min(len(word_index) + 1, MAX_WORDS)\n",
    "\n",
    "embedding_matrix = np.zeros((vocab_size, EMBEDDING_DIM))\n",
    "\n",
    "for word, i in word_index.items():\n",
    "    if i >= MAX_WORDS:\n",
    "        continue\n",
    "    \n",
    "    try:\n",
    "        embedding_vector = embeddings_dict[word]\n",
    "        embedding_matrix[i] = embedding_vector\n",
    "    \n",
    "    except KeyError:\n",
    "        embedding_vector = np.zeros(EMBEDDING_DIM)\n",
    "        embedding_matrix[i] = embedding_vector\n",
    "\n",
    "embedding_layer = Embedding(vocab_size, EMBEDDING_DIM, weights=[embedding_matrix], input_length=max_length, trainable=False)\n",
    "\n",
    "del(embedding_matrix)"
   ]
  },
  {
   "cell_type": "markdown",
   "metadata": {},
   "source": [
    "#### CNN + GRU"
   ]
  },
  {
   "cell_type": "code",
   "execution_count": 24,
   "metadata": {},
   "outputs": [
    {
     "name": "stdout",
     "output_type": "stream",
     "text": [
      "Model: \"sequential_4\"\n",
      "_________________________________________________________________\n",
      " Layer (type)                Output Shape              Param #   \n",
      "=================================================================\n",
      " embedding_2 (Embedding)     (None, 100, 300)          4500000   \n",
      "                                                                 \n",
      " conv1d_4 (Conv1D)           (None, 96, 64)            96064     \n",
      "                                                                 \n",
      " max_pooling1d_4 (MaxPooling  (None, 24, 64)           0         \n",
      " 1D)                                                             \n",
      "                                                                 \n",
      " gru_2 (GRU)                 (None, 64)                24960     \n",
      "                                                                 \n",
      " dropout_2 (Dropout)         (None, 64)                0         \n",
      "                                                                 \n",
      " dense_8 (Dense)             (None, 16)                1040      \n",
      "                                                                 \n",
      " dense_9 (Dense)             (None, 1)                 17        \n",
      "                                                                 \n",
      "=================================================================\n",
      "Total params: 4,622,081\n",
      "Trainable params: 122,081\n",
      "Non-trainable params: 4,500,000\n",
      "_________________________________________________________________\n",
      "None\n"
     ]
    }
   ],
   "source": [
    "model = Sequential()\n",
    "model.add(embedding_layer)\n",
    "model.add(Conv1D(64, 5, activation=\"relu\"))\n",
    "model.add(MaxPooling1D(4))\n",
    "model.add(GRU(64))\n",
    "model.add(Dropout(0.2))\n",
    "model.add(Dense(16, activation=\"relu\"))\n",
    "model.add(Dense(1, activation='sigmoid'))\n",
    "\n",
    "print(model.summary())"
   ]
  },
  {
   "cell_type": "code",
   "execution_count": 25,
   "metadata": {},
   "outputs": [
    {
     "name": "stdout",
     "output_type": "stream",
     "text": [
      "Epoch 1/10\n",
      "114/114 [==============================] - 6s 36ms/step - loss: 0.6104 - accuracy: 0.6653 - val_loss: 1.1165 - val_accuracy: 0.5060\n",
      "Epoch 2/10\n",
      "114/114 [==============================] - 4s 33ms/step - loss: 0.3801 - accuracy: 0.8311 - val_loss: 0.4585 - val_accuracy: 0.8125\n",
      "Epoch 3/10\n",
      "114/114 [==============================] - 4s 37ms/step - loss: 0.2805 - accuracy: 0.8845 - val_loss: 0.4102 - val_accuracy: 0.8180\n",
      "Epoch 4/10\n",
      "114/114 [==============================] - 4s 35ms/step - loss: 0.1826 - accuracy: 0.9323 - val_loss: 0.5063 - val_accuracy: 0.8109\n",
      "Epoch 5/10\n",
      "114/114 [==============================] - 4s 37ms/step - loss: 0.1070 - accuracy: 0.9631 - val_loss: 1.0212 - val_accuracy: 0.6464\n",
      "Epoch 6/10\n",
      "114/114 [==============================] - 4s 35ms/step - loss: 0.0601 - accuracy: 0.9820 - val_loss: 0.3533 - val_accuracy: 0.8876\n",
      "Epoch 7/10\n",
      "114/114 [==============================] - 4s 34ms/step - loss: 0.0392 - accuracy: 0.9881 - val_loss: 0.8589 - val_accuracy: 0.7725\n",
      "Epoch 8/10\n",
      "114/114 [==============================] - 4s 34ms/step - loss: 0.0466 - accuracy: 0.9842 - val_loss: 0.5221 - val_accuracy: 0.8459\n",
      "Epoch 9/10\n",
      "114/114 [==============================] - 4s 36ms/step - loss: 0.0200 - accuracy: 0.9953 - val_loss: 0.6099 - val_accuracy: 0.8421\n",
      "Epoch 10/10\n",
      "114/114 [==============================] - 4s 35ms/step - loss: 0.0322 - accuracy: 0.9904 - val_loss: 0.7710 - val_accuracy: 0.8235\n"
     ]
    }
   ],
   "source": [
    "# Compile model\n",
    "\n",
    "EPOCHS = 10\n",
    "LEARNING_RATE = 0.001\n",
    "\n",
    "optimizer = Adam(learning_rate=LEARNING_RATE)\n",
    "\n",
    "model.compile(optimizer=optimizer, loss=\"binary_crossentropy\", metrics=[\"accuracy\"])\n",
    "\n",
    "# Fit model\n",
    "\n",
    "BATCH_SIZE = 64\n",
    "\n",
    "# callbacks = [EarlyStopping(monitor='val_loss')]\n",
    "\n",
    "history = model.fit(x_train_padded, ytrain, batch_size=BATCH_SIZE, epochs=EPOCHS, verbose=1, validation_split=0.2)"
   ]
  },
  {
   "cell_type": "code",
   "execution_count": 26,
   "metadata": {},
   "outputs": [
    {
     "data": {
      "image/png": "[encoded data removed]",
      "text/plain": [
       "<Figure size 432x288 with 1 Axes>"
      ]
     },
     "metadata": {
      "needs_background": "light"
     },
     "output_type": "display_data"
    },
    {
     "data": {
      "image/png": "[encoded data removed]",
      "text/plain": [
       "<Figure size 432x288 with 1 Axes>"
      ]
     },
     "metadata": {
      "needs_background": "light"
     },
     "output_type": "display_data"
    },
    {
     "name": "stdout",
     "output_type": "stream",
     "text": [
      "72/72 - 0s - loss: 0.6198 - accuracy: 0.8504 - 488ms/epoch - 7ms/step\n",
      "Test accuracy: 0.8504385948181152\n",
      "Confusion matrix: \n",
      " [[ 918  222]\n",
      " [ 119 1021]]\n",
      "Test accuracy: 0.8504385964912281\n"
     ]
    }
   ],
   "source": [
    "# Plot accuracy and loss\n",
    "\n",
    "plot_history(history)\n",
    "\n",
    "# Evaluate model\n",
    "\n",
    "loss, accuracy = model.evaluate(x_test_padded, ytest, verbose=2)\n",
    "\n",
    "print(f\"Test accuracy: {accuracy}\")\n",
    "\n",
    "_y_pred = model.predict(x_test_padded)\n",
    "y_pred = np.round(_y_pred)\n",
    "\n",
    "print(f\"Confusion matrix: \\n {confusion_matrix(ytest, y_pred)}\")\n",
    "print(f\"Test accuracy: {accuracy_score(ytest, y_pred)}\")"
   ]
  },
  {
   "cell_type": "markdown",
   "metadata": {},
   "source": [
    "#### CNN + LSTM"
   ]
  },
  {
   "cell_type": "code",
   "execution_count": 27,
   "metadata": {},
   "outputs": [
    {
     "name": "stdout",
     "output_type": "stream",
     "text": [
      "Model: \"sequential_5\"\n",
      "_________________________________________________________________\n",
      " Layer (type)                Output Shape              Param #   \n",
      "=================================================================\n",
      " embedding_2 (Embedding)     (None, 100, 300)          4500000   \n",
      "                                                                 \n",
      " conv1d_5 (Conv1D)           (None, 96, 64)            96064     \n",
      "                                                                 \n",
      " max_pooling1d_5 (MaxPooling  (None, 24, 64)           0         \n",
      " 1D)                                                             \n",
      "                                                                 \n",
      " lstm_2 (LSTM)               (None, 50)                23000     \n",
      "                                                                 \n",
      " dense_10 (Dense)            (None, 16)                816       \n",
      "                                                                 \n",
      " dense_11 (Dense)            (None, 1)                 17        \n",
      "                                                                 \n",
      "=================================================================\n",
      "Total params: 4,619,897\n",
      "Trainable params: 119,897\n",
      "Non-trainable params: 4,500,000\n",
      "_________________________________________________________________\n",
      "None\n"
     ]
    }
   ],
   "source": [
    "model = Sequential()\n",
    "model.add(embedding_layer)\n",
    "model.add(Conv1D(64, 5, activation=\"relu\"))\n",
    "model.add(MaxPooling1D(4))\n",
    "model.add(LSTM(50))\n",
    "# model.add(Dropout(0.2))\n",
    "model.add(Dense(16, activation=\"relu\"))\n",
    "model.add(Dense(1, activation='sigmoid'))\n",
    "\n",
    "print(model.summary())"
   ]
  },
  {
   "cell_type": "code",
   "execution_count": 28,
   "metadata": {},
   "outputs": [
    {
     "name": "stdout",
     "output_type": "stream",
     "text": [
      "Epoch 1/10\n",
      "114/114 [==============================] - 7s 43ms/step - loss: 0.5341 - accuracy: 0.7323 - val_loss: 0.5335 - val_accuracy: 0.7664\n",
      "Epoch 2/10\n",
      "114/114 [==============================] - 4s 36ms/step - loss: 0.3450 - accuracy: 0.8542 - val_loss: 0.4827 - val_accuracy: 0.7741\n",
      "Epoch 3/10\n",
      "114/114 [==============================] - 4s 39ms/step - loss: 0.2790 - accuracy: 0.8880 - val_loss: 0.2707 - val_accuracy: 0.9041\n",
      "Epoch 4/10\n",
      "114/114 [==============================] - 4s 36ms/step - loss: 0.1876 - accuracy: 0.9334 - val_loss: 0.5764 - val_accuracy: 0.7856\n",
      "Epoch 5/10\n",
      "114/114 [==============================] - 4s 37ms/step - loss: 0.1133 - accuracy: 0.9601 - val_loss: 0.9250 - val_accuracy: 0.6650\n",
      "Epoch 6/10\n",
      "114/114 [==============================] - 4s 37ms/step - loss: 0.0829 - accuracy: 0.9718 - val_loss: 0.5590 - val_accuracy: 0.8317\n",
      "Epoch 7/10\n",
      "114/114 [==============================] - 4s 38ms/step - loss: 0.0485 - accuracy: 0.9857 - val_loss: 0.7654 - val_accuracy: 0.8098\n",
      "Epoch 8/10\n",
      "114/114 [==============================] - 4s 38ms/step - loss: 0.0470 - accuracy: 0.9866 - val_loss: 0.7304 - val_accuracy: 0.8032\n",
      "Epoch 9/10\n",
      "114/114 [==============================] - 4s 37ms/step - loss: 0.0406 - accuracy: 0.9875 - val_loss: 0.5037 - val_accuracy: 0.8717\n",
      "Epoch 10/10\n",
      "114/114 [==============================] - 4s 38ms/step - loss: 0.0279 - accuracy: 0.9922 - val_loss: 0.4556 - val_accuracy: 0.9024\n"
     ]
    }
   ],
   "source": [
    "# Compile model\n",
    "\n",
    "EPOCHS = 10\n",
    "LEARNING_RATE = 0.001\n",
    "\n",
    "optimizer = Adam(learning_rate=LEARNING_RATE)\n",
    "\n",
    "model.compile(optimizer=optimizer, loss=\"binary_crossentropy\", metrics=[\"accuracy\"])\n",
    "\n",
    "# Fit model\n",
    "\n",
    "BATCH_SIZE = 64\n",
    "\n",
    "# callbacks = [EarlyStopping(monitor='val_loss')]\n",
    "\n",
    "history = model.fit(x_train_padded, ytrain, batch_size=BATCH_SIZE, epochs=EPOCHS, verbose=1, validation_split=0.2)"
   ]
  },
  {
   "cell_type": "code",
   "execution_count": 29,
   "metadata": {},
   "outputs": [
    {
     "data": {
      "image/png": "[encoded data removed]",
      "text/plain": [
       "<Figure size 432x288 with 1 Axes>"
      ]
     },
     "metadata": {
      "needs_background": "light"
     },
     "output_type": "display_data"
    },
    {
     "data": {
      "image/png": "[encoded data removed]",
      "text/plain": [
       "<Figure size 432x288 with 1 Axes>"
      ]
     },
     "metadata": {
      "needs_background": "light"
     },
     "output_type": "display_data"
    },
    {
     "name": "stdout",
     "output_type": "stream",
     "text": [
      "72/72 - 0s - loss: 0.6917 - accuracy: 0.8425 - 391ms/epoch - 5ms/step\n",
      "Test accuracy: 0.8425438404083252\n",
      "Confusion matrix: \n",
      " [[1017  123]\n",
      " [ 236  904]]\n",
      "Test accuracy: 0.8425438596491228\n"
     ]
    }
   ],
   "source": [
    "# Plot accuracy and loss\n",
    "\n",
    "plot_history(history)\n",
    "\n",
    "# Evaluate model\n",
    "\n",
    "loss, accuracy = model.evaluate(x_test_padded, ytest, verbose=2)\n",
    "\n",
    "print(f\"Test accuracy: {accuracy}\")\n",
    "\n",
    "_y_pred = model.predict(x_test_padded)\n",
    "y_pred = np.round(_y_pred)\n",
    "\n",
    "print(f\"Confusion matrix: \\n {confusion_matrix(ytest, y_pred)}\")\n",
    "print(f\"Test accuracy: {accuracy_score(ytest, y_pred)}\")"
   ]
  }
 ],
 "metadata": {
  "interpreter": {
   "hash": "bbdeae21cd698169d80b8f85757407d35b6d9920a79c4c6b4fbd15284371fc7c"
  },
  "kernelspec": {
   "display_name": "Python 3.9.7 ('final')",
   "language": "python",
   "name": "python3"
  },
  "language_info": {
   "codemirror_mode": {
    "name": "ipython",
    "version": 3
   },
   "file_extension": ".py",
   "mimetype": "text/x-python",
   "name": "python",
   "nbconvert_exporter": "python",
   "pygments_lexer": "ipython3",
   "version": "3.9.7"
  },
  "orig_nbformat": 4
 },
 "nbformat": 4,
 "nbformat_minor": 2
}
