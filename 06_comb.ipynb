{
 "cells": [
  {
   "cell_type": "code",
   "execution_count": 1,
   "metadata": {},
   "outputs": [],
   "source": [
    "import ast\n",
    "import pandas as pd\n",
    "import numpy as np\n",
    "import matplotlib.pyplot as plt\n",
    "from utils import *\n",
    "\n",
    "from nltk.tokenize.treebank import TreebankWordDetokenizer\n",
    "from sklearn.model_selection import train_test_split\n",
    "\n",
    "from keras.preprocessing.text import Tokenizer\n",
    "from keras.preprocessing.sequence import pad_sequences\n",
    "from keras import regularizers\n",
    "\n",
    "from keras.models import Sequential, Model\n",
    "from keras.layers import Embedding, Dense, Flatten, Conv1D, Dropout, MaxPooling1D, Activation, GlobalMaxPooling1D, Input, Conv2D, Reshape, LSTM, Bidirectional, GRU\n",
    "from tensorflow.keras.optimizers import Adam, SGD\n",
    "\n",
    "from keras.callbacks import ModelCheckpoint, EarlyStopping\n",
    "from tensorflow.keras.utils import to_categorical\n",
    "import tensorflow.random as random\n",
    "\n",
    "seed = 111\n",
    "random.set_seed(seed)\n",
    "np.random.seed(seed)"
   ]
  },
  {
   "cell_type": "code",
   "execution_count": 2,
   "metadata": {},
   "outputs": [
    {
     "data": {
      "text/html": [
       "<div>\n",
       "<style scoped>\n",
       "    .dataframe tbody tr th:only-of-type {\n",
       "        vertical-align: middle;\n",
       "    }\n",
       "\n",
       "    .dataframe tbody tr th {\n",
       "        vertical-align: top;\n",
       "    }\n",
       "\n",
       "    .dataframe thead th {\n",
       "        text-align: right;\n",
       "    }\n",
       "</style>\n",
       "<table border=\"1\" class=\"dataframe\">\n",
       "  <thead>\n",
       "    <tr style=\"text-align: right;\">\n",
       "      <th></th>\n",
       "      <th>review</th>\n",
       "      <th>text</th>\n",
       "      <th>rating</th>\n",
       "      <th>sentiment</th>\n",
       "      <th>detoken</th>\n",
       "    </tr>\n",
       "  </thead>\n",
       "  <tbody>\n",
       "    <tr>\n",
       "      <th>0</th>\n",
       "      <td>This started out strong, but it went downhill ...</td>\n",
       "      <td>[start, out, strong, but, go, downhill, fairly...</td>\n",
       "      <td>1</td>\n",
       "      <td>0</td>\n",
       "      <td>start out strong but go downhill fairly quickl...</td>\n",
       "    </tr>\n",
       "    <tr>\n",
       "      <th>1</th>\n",
       "      <td>A decently written YA book, but I can't even c...</td>\n",
       "      <td>[decently, write, ya, book, but, can, even, co...</td>\n",
       "      <td>1</td>\n",
       "      <td>0</td>\n",
       "      <td>decently write ya book but can even consider e...</td>\n",
       "    </tr>\n",
       "    <tr>\n",
       "      <th>2</th>\n",
       "      <td>Ugh...I tried, I honestly tried. I'm a huge fa...</td>\n",
       "      <td>[ugh, try, honestly, try, huge, fan, scott, we...</td>\n",
       "      <td>1</td>\n",
       "      <td>0</td>\n",
       "      <td>ugh try honestly try huge fan scott westerfeld...</td>\n",
       "    </tr>\n",
       "    <tr>\n",
       "      <th>3</th>\n",
       "      <td>Main points: \\n 1. Never ever introduce a poin...</td>\n",
       "      <td>[main, point, never, ever, introduce, point, v...</td>\n",
       "      <td>1</td>\n",
       "      <td>0</td>\n",
       "      <td>main point never ever introduce point view sid...</td>\n",
       "    </tr>\n",
       "    <tr>\n",
       "      <th>4</th>\n",
       "      <td>Why do all YA books have to have a love triang...</td>\n",
       "      <td>[all, ya, book, love, triangle, now, just, who...</td>\n",
       "      <td>1</td>\n",
       "      <td>0</td>\n",
       "      <td>all ya book love triangle now just whole world...</td>\n",
       "    </tr>\n",
       "  </tbody>\n",
       "</table>\n",
       "</div>"
      ],
      "text/plain": [
       "                                              review  \\\n",
       "0  This started out strong, but it went downhill ...   \n",
       "1  A decently written YA book, but I can't even c...   \n",
       "2  Ugh...I tried, I honestly tried. I'm a huge fa...   \n",
       "3  Main points: \\n 1. Never ever introduce a poin...   \n",
       "4  Why do all YA books have to have a love triang...   \n",
       "\n",
       "                                                text  rating  sentiment  \\\n",
       "0  [start, out, strong, but, go, downhill, fairly...       1          0   \n",
       "1  [decently, write, ya, book, but, can, even, co...       1          0   \n",
       "2  [ugh, try, honestly, try, huge, fan, scott, we...       1          0   \n",
       "3  [main, point, never, ever, introduce, point, v...       1          0   \n",
       "4  [all, ya, book, love, triangle, now, just, who...       1          0   \n",
       "\n",
       "                                             detoken  \n",
       "0  start out strong but go downhill fairly quickl...  \n",
       "1  decently write ya book but can even consider e...  \n",
       "2  ugh try honestly try huge fan scott westerfeld...  \n",
       "3  main point never ever introduce point view sid...  \n",
       "4  all ya book love triangle now just whole world...  "
      ]
     },
     "execution_count": 2,
     "metadata": {},
     "output_type": "execute_result"
    }
   ],
   "source": [
    "df = pd.read_csv(\"cleaned_data/cleaned_reviews_3.csv\")\n",
    "df[\"text\"] = df[\"text\"].apply(lambda x: ast.literal_eval(x))\n",
    "df[\"detoken\"] = df[\"text\"].apply(lambda y: TreebankWordDetokenizer().tokenize(y))\n",
    "df.head()"
   ]
  },
  {
   "cell_type": "code",
   "execution_count": 3,
   "metadata": {},
   "outputs": [
    {
     "name": "stdout",
     "output_type": "stream",
     "text": [
      "<class 'pandas.core.frame.DataFrame'>\n",
      "RangeIndex: 11400 entries, 0 to 11399\n",
      "Data columns (total 5 columns):\n",
      " #   Column     Non-Null Count  Dtype \n",
      "---  ------     --------------  ----- \n",
      " 0   review     11400 non-null  object\n",
      " 1   text       11400 non-null  object\n",
      " 2   rating     11400 non-null  int64 \n",
      " 3   sentiment  11400 non-null  int64 \n",
      " 4   detoken    11400 non-null  object\n",
      "dtypes: int64(2), object(3)\n",
      "memory usage: 445.4+ KB\n"
     ]
    }
   ],
   "source": [
    "df.info()"
   ]
  },
  {
   "cell_type": "code",
   "execution_count": 4,
   "metadata": {},
   "outputs": [
    {
     "name": "stdout",
     "output_type": "stream",
     "text": [
      "There are 515575 train words in total and the vocabulary size is 18590.\n"
     ]
    }
   ],
   "source": [
    "df_pos, df_neg = split_sentiment(df)\n",
    "df_train, df_test = split_train_test(df_pos, df_neg, 222)\n",
    "\n",
    "train_words = [word for text in df_train[\"text\"] for word in text]\n",
    "train_text_length = [len(text) for text in df_train[\"text\"]]\n",
    "\n",
    "vocab = list(set(train_words))\n",
    "vocab_size = len(vocab)\n",
    "\n",
    "print(f\"There are {len(train_words)} train words in total and the vocabulary size is {vocab_size}.\")"
   ]
  },
  {
   "cell_type": "code",
   "execution_count": 5,
   "metadata": {},
   "outputs": [
    {
     "name": "stdout",
     "output_type": "stream",
     "text": [
      "150\n",
      "(9120, 150)\n",
      "(2280, 150)\n",
      "(9120,)\n",
      "(2280,)\n",
      "Found 18616 unique tokens\n"
     ]
    }
   ],
   "source": [
    "train_data = df_train[\"detoken\"].tolist()\n",
    "test_data = df_test[\"detoken\"].tolist()\n",
    "\n",
    "tokenizer = Tokenizer(num_words=15000)\n",
    "tokenizer.fit_on_texts(train_data)\n",
    "\n",
    "word_index = tokenizer.word_index\n",
    "\n",
    "train_sequences = tokenizer.texts_to_sequences(train_data)\n",
    "test_sequences = tokenizer.texts_to_sequences(test_data)\n",
    "\n",
    "# max_length = max(max([len(x) for x in train_sequences]), max([len(x) for x in test_sequences]))\n",
    "max_length = 150\n",
    "\n",
    "x_train_padded = pad_sequences(train_sequences, maxlen=max_length, padding=\"post\")\n",
    "x_test_padded = pad_sequences(test_sequences, maxlen=max_length, padding=\"post\")\n",
    "\n",
    "ytrain, ytest = np.asarray(df_train[\"sentiment\"]), np.asarray(df_test[\"sentiment\"])\n",
    "\n",
    "print(max_length)\n",
    "print(x_train_padded.shape)\n",
    "print(x_test_padded.shape)\n",
    "print(ytrain.shape)\n",
    "print(ytest.shape)\n",
    "print(f\"Found {len(word_index)} unique tokens\")"
   ]
  },
  {
   "cell_type": "code",
   "execution_count": 6,
   "metadata": {},
   "outputs": [],
   "source": [
    "embeddings_dict = {}\n",
    "with open(\"glove.42B.300d.txt\", \"r\", encoding=\"utf-8\") as f:\n",
    "    for line in f:\n",
    "        values = line.split()\n",
    "        token = values[0]\n",
    "        vector = np.asarray(values[1:], \"float32\")\n",
    "        embeddings_dict[token] = vector"
   ]
  },
  {
   "cell_type": "code",
   "execution_count": 7,
   "metadata": {},
   "outputs": [
    {
     "name": "stdout",
     "output_type": "stream",
     "text": [
      "Glove embeddings cover 95.22% of vocabulary and 99.79% text in training set\n",
      "Glove embeddings cover 97.13% of vocabulary and 99.76% text in testing set\n"
     ]
    }
   ],
   "source": [
    "vocab_train = vocab_build(df_train[\"text\"])\n",
    "vocab_test = vocab_build(df_test[\"text\"])\n",
    "\n",
    "train_covered, train_oov, train_vocab_coverage, train_text_coverage = embedding_coverage(df_train[\"text\"], embeddings_dict)\n",
    "test_covered, test_oov, test_vocab_coverage, test_text_coverage = embedding_coverage(df_test[\"text\"], embeddings_dict)\n",
    "\n",
    "print(f\"Glove embeddings cover {round(train_vocab_coverage, 2)}% of vocabulary and {round(train_text_coverage, 2)}% text in training set\")\n",
    "print(f\"Glove embeddings cover {round(test_vocab_coverage, 2)}% of vocabulary and {round(test_text_coverage, 2)}% text in testing set\")"
   ]
  },
  {
   "cell_type": "code",
   "execution_count": 8,
   "metadata": {},
   "outputs": [],
   "source": [
    "EMBEDDING_DIM = 300\n",
    "MAX_WORDS = 15000\n",
    "vocab_size = min(len(word_index) + 1, MAX_WORDS)\n",
    "\n",
    "embedding_matrix = np.zeros((vocab_size, EMBEDDING_DIM))\n",
    "\n",
    "for word, i in word_index.items():\n",
    "    if i >= MAX_WORDS:\n",
    "        continue\n",
    "    \n",
    "    try:\n",
    "        embedding_vector = embeddings_dict[word]\n",
    "        embedding_matrix[i] = embedding_vector\n",
    "    \n",
    "    except KeyError:\n",
    "        embedding_vector = np.zeros(EMBEDDING_DIM)\n",
    "        embedding_matrix[i] = embedding_vector\n",
    "\n",
    "embedding_layer = Embedding(vocab_size, EMBEDDING_DIM, weights=[embedding_matrix], input_length=max_length, trainable=False)\n",
    "\n",
    "del(embedding_matrix)"
   ]
  },
  {
   "cell_type": "markdown",
   "metadata": {},
   "source": [
    "#### CNN + LSTM"
   ]
  },
  {
   "cell_type": "code",
   "execution_count": 22,
   "metadata": {},
   "outputs": [
    {
     "name": "stdout",
     "output_type": "stream",
     "text": [
      "Model: \"sequential_6\"\n",
      "_________________________________________________________________\n",
      " Layer (type)                Output Shape              Param #   \n",
      "=================================================================\n",
      " embedding (Embedding)       (None, 150, 300)          4500000   \n",
      "                                                                 \n",
      " conv1d_6 (Conv1D)           (None, 146, 128)          192128    \n",
      "                                                                 \n",
      " max_pooling1d_2 (MaxPooling  (None, 36, 128)          0         \n",
      " 1D)                                                             \n",
      "                                                                 \n",
      " lstm_6 (LSTM)               (None, 32)                20608     \n",
      "                                                                 \n",
      " dropout_4 (Dropout)         (None, 32)                0         \n",
      "                                                                 \n",
      " dense_8 (Dense)             (None, 16)                528       \n",
      "                                                                 \n",
      " dense_9 (Dense)             (None, 1)                 17        \n",
      "                                                                 \n",
      "=================================================================\n",
      "Total params: 4,713,281\n",
      "Trainable params: 213,281\n",
      "Non-trainable params: 4,500,000\n",
      "_________________________________________________________________\n",
      "None\n"
     ]
    }
   ],
   "source": [
    "model = Sequential()\n",
    "model.add(embedding_layer)\n",
    "model.add(Conv1D(128, 5, activation=\"relu\"))\n",
    "# model.add(GlobalMaxPooling1D())\n",
    "model.add(MaxPooling1D(4))\n",
    "model.add(LSTM(32))\n",
    "model.add(Dropout(0.2))\n",
    "model.add(Dense(16, activation=\"relu\"))\n",
    "model.add(Dense(1, activation='sigmoid'))\n",
    "\n",
    "print(model.summary())"
   ]
  },
  {
   "cell_type": "code",
   "execution_count": 23,
   "metadata": {},
   "outputs": [
    {
     "name": "stdout",
     "output_type": "stream",
     "text": [
      "Epoch 1/5\n",
      "114/114 [==============================] - 9s 64ms/step - loss: 0.5798 - accuracy: 0.6887 - val_loss: 0.8592 - val_accuracy: 0.6442\n",
      "Epoch 2/5\n",
      "114/114 [==============================] - 7s 62ms/step - loss: 0.3785 - accuracy: 0.8355 - val_loss: 0.3832 - val_accuracy: 0.8816\n",
      "Epoch 3/5\n",
      "114/114 [==============================] - 7s 64ms/step - loss: 0.3005 - accuracy: 0.8729 - val_loss: 0.5196 - val_accuracy: 0.7714\n",
      "Epoch 4/5\n",
      "114/114 [==============================] - 7s 65ms/step - loss: 0.2098 - accuracy: 0.9227 - val_loss: 0.5620 - val_accuracy: 0.7434\n",
      "Epoch 5/5\n",
      "114/114 [==============================] - 8s 67ms/step - loss: 0.1347 - accuracy: 0.9515 - val_loss: 0.4019 - val_accuracy: 0.8542\n"
     ]
    }
   ],
   "source": [
    "# Compile model\n",
    "\n",
    "EPOCHS = 5\n",
    "LEARNING_RATE = 0.001\n",
    "\n",
    "optimizer = Adam(learning_rate=LEARNING_RATE)\n",
    "\n",
    "model.compile(optimizer=optimizer, loss=\"binary_crossentropy\", metrics=[\"accuracy\"])\n",
    "\n",
    "# Fit model\n",
    "\n",
    "BATCH_SIZE = 64\n",
    "\n",
    "# callbacks = [EarlyStopping(monitor='val_loss')]\n",
    "\n",
    "history = model.fit(x_train_padded, ytrain, batch_size=BATCH_SIZE, epochs=EPOCHS, verbose=1, validation_split=0.2)"
   ]
  },
  {
   "cell_type": "code",
   "execution_count": 24,
   "metadata": {},
   "outputs": [
    {
     "data": {
      "image/png": "[encoded data removed]",
      "text/plain": [
       "<Figure size 432x288 with 1 Axes>"
      ]
     },
     "metadata": {
      "needs_background": "light"
     },
     "output_type": "display_data"
    },
    {
     "data": {
      "image/png": "[encoded data removed]",
      "text/plain": [
       "<Figure size 432x288 with 1 Axes>"
      ]
     },
     "metadata": {
      "needs_background": "light"
     },
     "output_type": "display_data"
    },
    {
     "name": "stdout",
     "output_type": "stream",
     "text": [
      "72/72 - 1s - loss: 0.3998 - accuracy: 0.8632 - 867ms/epoch - 12ms/step\n",
      "Test accuracy: 0.8631578683853149\n"
     ]
    }
   ],
   "source": [
    "# Plot accuracy and loss\n",
    "\n",
    "plot_history(history)\n",
    "\n",
    "# Evaluate model\n",
    "\n",
    "loss, accuracy = model.evaluate(x_test_padded, ytest, verbose=2)\n",
    "\n",
    "print(f\"Test accuracy: {accuracy}\")"
   ]
  },
  {
   "cell_type": "markdown",
   "metadata": {},
   "source": [
    "#### CNN + GRU"
   ]
  },
  {
   "cell_type": "code",
   "execution_count": 25,
   "metadata": {},
   "outputs": [
    {
     "name": "stdout",
     "output_type": "stream",
     "text": [
      "Model: \"sequential_7\"\n",
      "_________________________________________________________________\n",
      " Layer (type)                Output Shape              Param #   \n",
      "=================================================================\n",
      " embedding (Embedding)       (None, 150, 300)          4500000   \n",
      "                                                                 \n",
      " conv1d_7 (Conv1D)           (None, 146, 128)          192128    \n",
      "                                                                 \n",
      " max_pooling1d_3 (MaxPooling  (None, 36, 128)          0         \n",
      " 1D)                                                             \n",
      "                                                                 \n",
      " gru (GRU)                   (None, 32)                15552     \n",
      "                                                                 \n",
      " dropout_5 (Dropout)         (None, 32)                0         \n",
      "                                                                 \n",
      " dense_10 (Dense)            (None, 16)                528       \n",
      "                                                                 \n",
      " dense_11 (Dense)            (None, 1)                 17        \n",
      "                                                                 \n",
      "=================================================================\n",
      "Total params: 4,708,225\n",
      "Trainable params: 208,225\n",
      "Non-trainable params: 4,500,000\n",
      "_________________________________________________________________\n",
      "None\n"
     ]
    }
   ],
   "source": [
    "model = Sequential()\n",
    "model.add(embedding_layer)\n",
    "model.add(Conv1D(128, 5, activation=\"relu\"))\n",
    "# model.add(GlobalMaxPooling1D())\n",
    "model.add(MaxPooling1D(4))\n",
    "model.add(GRU(32))\n",
    "model.add(Dropout(0.2))\n",
    "model.add(Dense(16, activation=\"relu\"))\n",
    "model.add(Dense(1, activation='sigmoid'))\n",
    "\n",
    "print(model.summary())"
   ]
  },
  {
   "cell_type": "code",
   "execution_count": 26,
   "metadata": {},
   "outputs": [
    {
     "name": "stdout",
     "output_type": "stream",
     "text": [
      "Epoch 1/5\n",
      "114/114 [==============================] - 11s 77ms/step - loss: 0.6655 - accuracy: 0.6221 - val_loss: 0.9911 - val_accuracy: 0.0000e+00\n",
      "Epoch 2/5\n",
      "114/114 [==============================] - 8s 68ms/step - loss: 0.6349 - accuracy: 0.6491 - val_loss: 1.1493 - val_accuracy: 0.5691\n",
      "Epoch 3/5\n",
      "114/114 [==============================] - 8s 68ms/step - loss: 0.4508 - accuracy: 0.7989 - val_loss: 0.6777 - val_accuracy: 0.7708\n",
      "Epoch 4/5\n",
      "114/114 [==============================] - 8s 66ms/step - loss: 0.3180 - accuracy: 0.8708 - val_loss: 1.1618 - val_accuracy: 0.5060\n",
      "Epoch 5/5\n",
      "114/114 [==============================] - 8s 68ms/step - loss: 0.2059 - accuracy: 0.9241 - val_loss: 0.4482 - val_accuracy: 0.8213\n"
     ]
    }
   ],
   "source": [
    "# Compile model\n",
    "\n",
    "EPOCHS = 5\n",
    "LEARNING_RATE = 0.001\n",
    "\n",
    "optimizer = Adam(learning_rate=LEARNING_RATE)\n",
    "\n",
    "model.compile(optimizer=optimizer, loss=\"binary_crossentropy\", metrics=[\"accuracy\"])\n",
    "\n",
    "# Fit model\n",
    "\n",
    "BATCH_SIZE = 64\n",
    "\n",
    "# callbacks = [EarlyStopping(monitor='val_loss')]\n",
    "\n",
    "history = model.fit(x_train_padded, ytrain, batch_size=BATCH_SIZE, epochs=EPOCHS, verbose=1, validation_split=0.2)"
   ]
  },
  {
   "cell_type": "code",
   "execution_count": 27,
   "metadata": {},
   "outputs": [
    {
     "data": {
      "image/png": "[encoded data removed]",
      "text/plain": [
       "<Figure size 432x288 with 1 Axes>"
      ]
     },
     "metadata": {
      "needs_background": "light"
     },
     "output_type": "display_data"
    },
    {
     "data": {
      "image/png": "[encoded data removed]",
      "text/plain": [
       "<Figure size 432x288 with 1 Axes>"
      ]
     },
     "metadata": {
      "needs_background": "light"
     },
     "output_type": "display_data"
    },
    {
     "name": "stdout",
     "output_type": "stream",
     "text": [
      "72/72 - 1s - loss: 0.3503 - accuracy: 0.8561 - 892ms/epoch - 12ms/step\n",
      "Test accuracy: 0.8561403751373291\n"
     ]
    }
   ],
   "source": [
    "# Plot accuracy and loss\n",
    "\n",
    "plot_history(history)\n",
    "\n",
    "# Evaluate model\n",
    "\n",
    "loss, accuracy = model.evaluate(x_test_padded, ytest, verbose=2)\n",
    "\n",
    "print(f\"Test accuracy: {accuracy}\")"
   ]
  },
  {
   "cell_type": "markdown",
   "metadata": {},
   "source": [
    "#### LSTM + CNN"
   ]
  },
  {
   "cell_type": "code",
   "execution_count": 28,
   "metadata": {},
   "outputs": [
    {
     "ename": "ValueError",
     "evalue": "Input 0 of layer \"conv1d_8\" is incompatible with the layer: expected min_ndim=3, found ndim=2. Full shape received: (None, 128)",
     "output_type": "error",
     "traceback": [
      "\u001b[0;31m---------------------------------------------------------------------------\u001b[0m",
      "\u001b[0;31mValueError\u001b[0m                                Traceback (most recent call last)",
      "\u001b[0;32m/var/folders/kq/n4k8rz4s79gbrw8jb4n3wqt00000gn/T/ipykernel_81272/2664151909.py\u001b[0m in \u001b[0;36m<module>\u001b[0;34m\u001b[0m\n\u001b[1;32m      2\u001b[0m \u001b[0mmodel\u001b[0m\u001b[0;34m.\u001b[0m\u001b[0madd\u001b[0m\u001b[0;34m(\u001b[0m\u001b[0membedding_layer\u001b[0m\u001b[0;34m)\u001b[0m\u001b[0;34m\u001b[0m\u001b[0;34m\u001b[0m\u001b[0m\n\u001b[1;32m      3\u001b[0m \u001b[0mmodel\u001b[0m\u001b[0;34m.\u001b[0m\u001b[0madd\u001b[0m\u001b[0;34m(\u001b[0m\u001b[0mLSTM\u001b[0m\u001b[0;34m(\u001b[0m\u001b[0;36m128\u001b[0m\u001b[0;34m)\u001b[0m\u001b[0;34m)\u001b[0m\u001b[0;34m\u001b[0m\u001b[0;34m\u001b[0m\u001b[0m\n\u001b[0;32m----> 4\u001b[0;31m \u001b[0mmodel\u001b[0m\u001b[0;34m.\u001b[0m\u001b[0madd\u001b[0m\u001b[0;34m(\u001b[0m\u001b[0mConv1D\u001b[0m\u001b[0;34m(\u001b[0m\u001b[0;36m64\u001b[0m\u001b[0;34m,\u001b[0m \u001b[0;36m4\u001b[0m\u001b[0;34m,\u001b[0m \u001b[0mactivation\u001b[0m\u001b[0;34m=\u001b[0m\u001b[0;34m\"relu\"\u001b[0m\u001b[0;34m)\u001b[0m\u001b[0;34m)\u001b[0m\u001b[0;34m\u001b[0m\u001b[0;34m\u001b[0m\u001b[0m\n\u001b[0m\u001b[1;32m      5\u001b[0m \u001b[0mmodel\u001b[0m\u001b[0;34m.\u001b[0m\u001b[0madd\u001b[0m\u001b[0;34m(\u001b[0m\u001b[0mGlobalMaxPooling1D\u001b[0m\u001b[0;34m(\u001b[0m\u001b[0;34m)\u001b[0m\u001b[0;34m)\u001b[0m\u001b[0;34m\u001b[0m\u001b[0;34m\u001b[0m\u001b[0m\n\u001b[1;32m      6\u001b[0m \u001b[0mmodel\u001b[0m\u001b[0;34m.\u001b[0m\u001b[0madd\u001b[0m\u001b[0;34m(\u001b[0m\u001b[0mDropout\u001b[0m\u001b[0;34m(\u001b[0m\u001b[0;36m0.2\u001b[0m\u001b[0;34m)\u001b[0m\u001b[0;34m)\u001b[0m\u001b[0;34m\u001b[0m\u001b[0;34m\u001b[0m\u001b[0m\n",
      "\u001b[0;32m~/miniconda3/envs/final/lib/python3.9/site-packages/tensorflow/python/training/tracking/base.py\u001b[0m in \u001b[0;36m_method_wrapper\u001b[0;34m(self, *args, **kwargs)\u001b[0m\n\u001b[1;32m    528\u001b[0m     \u001b[0mself\u001b[0m\u001b[0;34m.\u001b[0m\u001b[0m_self_setattr_tracking\u001b[0m \u001b[0;34m=\u001b[0m \u001b[0;32mFalse\u001b[0m  \u001b[0;31m# pylint: disable=protected-access\u001b[0m\u001b[0;34m\u001b[0m\u001b[0;34m\u001b[0m\u001b[0m\n\u001b[1;32m    529\u001b[0m     \u001b[0;32mtry\u001b[0m\u001b[0;34m:\u001b[0m\u001b[0;34m\u001b[0m\u001b[0;34m\u001b[0m\u001b[0m\n\u001b[0;32m--> 530\u001b[0;31m       \u001b[0mresult\u001b[0m \u001b[0;34m=\u001b[0m \u001b[0mmethod\u001b[0m\u001b[0;34m(\u001b[0m\u001b[0mself\u001b[0m\u001b[0;34m,\u001b[0m \u001b[0;34m*\u001b[0m\u001b[0margs\u001b[0m\u001b[0;34m,\u001b[0m \u001b[0;34m**\u001b[0m\u001b[0mkwargs\u001b[0m\u001b[0;34m)\u001b[0m\u001b[0;34m\u001b[0m\u001b[0;34m\u001b[0m\u001b[0m\n\u001b[0m\u001b[1;32m    531\u001b[0m     \u001b[0;32mfinally\u001b[0m\u001b[0;34m:\u001b[0m\u001b[0;34m\u001b[0m\u001b[0;34m\u001b[0m\u001b[0m\n\u001b[1;32m    532\u001b[0m       \u001b[0mself\u001b[0m\u001b[0;34m.\u001b[0m\u001b[0m_self_setattr_tracking\u001b[0m \u001b[0;34m=\u001b[0m \u001b[0mprevious_value\u001b[0m  \u001b[0;31m# pylint: disable=protected-access\u001b[0m\u001b[0;34m\u001b[0m\u001b[0;34m\u001b[0m\u001b[0m\n",
      "\u001b[0;32m~/miniconda3/envs/final/lib/python3.9/site-packages/keras/utils/traceback_utils.py\u001b[0m in \u001b[0;36merror_handler\u001b[0;34m(*args, **kwargs)\u001b[0m\n\u001b[1;32m     65\u001b[0m     \u001b[0;32mexcept\u001b[0m \u001b[0mException\u001b[0m \u001b[0;32mas\u001b[0m \u001b[0me\u001b[0m\u001b[0;34m:\u001b[0m  \u001b[0;31m# pylint: disable=broad-except\u001b[0m\u001b[0;34m\u001b[0m\u001b[0;34m\u001b[0m\u001b[0m\n\u001b[1;32m     66\u001b[0m       \u001b[0mfiltered_tb\u001b[0m \u001b[0;34m=\u001b[0m \u001b[0m_process_traceback_frames\u001b[0m\u001b[0;34m(\u001b[0m\u001b[0me\u001b[0m\u001b[0;34m.\u001b[0m\u001b[0m__traceback__\u001b[0m\u001b[0;34m)\u001b[0m\u001b[0;34m\u001b[0m\u001b[0;34m\u001b[0m\u001b[0m\n\u001b[0;32m---> 67\u001b[0;31m       \u001b[0;32mraise\u001b[0m \u001b[0me\u001b[0m\u001b[0;34m.\u001b[0m\u001b[0mwith_traceback\u001b[0m\u001b[0;34m(\u001b[0m\u001b[0mfiltered_tb\u001b[0m\u001b[0;34m)\u001b[0m \u001b[0;32mfrom\u001b[0m \u001b[0;32mNone\u001b[0m\u001b[0;34m\u001b[0m\u001b[0;34m\u001b[0m\u001b[0m\n\u001b[0m\u001b[1;32m     68\u001b[0m     \u001b[0;32mfinally\u001b[0m\u001b[0;34m:\u001b[0m\u001b[0;34m\u001b[0m\u001b[0;34m\u001b[0m\u001b[0m\n\u001b[1;32m     69\u001b[0m       \u001b[0;32mdel\u001b[0m \u001b[0mfiltered_tb\u001b[0m\u001b[0;34m\u001b[0m\u001b[0;34m\u001b[0m\u001b[0m\n",
      "\u001b[0;32m~/miniconda3/envs/final/lib/python3.9/site-packages/keras/engine/input_spec.py\u001b[0m in \u001b[0;36massert_input_compatibility\u001b[0;34m(input_spec, inputs, layer_name)\u001b[0m\n\u001b[1;32m    225\u001b[0m       \u001b[0mndim\u001b[0m \u001b[0;34m=\u001b[0m \u001b[0mx\u001b[0m\u001b[0;34m.\u001b[0m\u001b[0mshape\u001b[0m\u001b[0;34m.\u001b[0m\u001b[0mrank\u001b[0m\u001b[0;34m\u001b[0m\u001b[0;34m\u001b[0m\u001b[0m\n\u001b[1;32m    226\u001b[0m       \u001b[0;32mif\u001b[0m \u001b[0mndim\u001b[0m \u001b[0;32mis\u001b[0m \u001b[0;32mnot\u001b[0m \u001b[0;32mNone\u001b[0m \u001b[0;32mand\u001b[0m \u001b[0mndim\u001b[0m \u001b[0;34m<\u001b[0m \u001b[0mspec\u001b[0m\u001b[0;34m.\u001b[0m\u001b[0mmin_ndim\u001b[0m\u001b[0;34m:\u001b[0m\u001b[0;34m\u001b[0m\u001b[0;34m\u001b[0m\u001b[0m\n\u001b[0;32m--> 227\u001b[0;31m         raise ValueError(f'Input {input_index} of layer \"{layer_name}\" '\n\u001b[0m\u001b[1;32m    228\u001b[0m                          \u001b[0;34m'is incompatible with the layer: '\u001b[0m\u001b[0;34m\u001b[0m\u001b[0;34m\u001b[0m\u001b[0m\n\u001b[1;32m    229\u001b[0m                          \u001b[0;34mf'expected min_ndim={spec.min_ndim}, '\u001b[0m\u001b[0;34m\u001b[0m\u001b[0;34m\u001b[0m\u001b[0m\n",
      "\u001b[0;31mValueError\u001b[0m: Input 0 of layer \"conv1d_8\" is incompatible with the layer: expected min_ndim=3, found ndim=2. Full shape received: (None, 128)"
     ]
    }
   ],
   "source": [
    "model = Sequential()\n",
    "model.add(embedding_layer)\n",
    "model.add(LSTM(128))\n",
    "model.add(Conv1D(64, 4, activation=\"relu\"))\n",
    "model.add(GlobalMaxPooling1D())\n",
    "model.add(Dropout(0.2))\n",
    "model.add(Dense(16, activation=\"relu\"))\n",
    "model.add(Dense(1, activation='sigmoid'))\n",
    "\n",
    "print(model.summary())"
   ]
  },
  {
   "cell_type": "code",
   "execution_count": null,
   "metadata": {},
   "outputs": [
    {
     "name": "stdout",
     "output_type": "stream",
     "text": [
      "Epoch 1/5\n",
      "114/114 [==============================] - 9s 64ms/step - loss: 0.5798 - accuracy: 0.6887 - val_loss: 0.8592 - val_accuracy: 0.6442\n",
      "Epoch 2/5\n",
      "114/114 [==============================] - 7s 62ms/step - loss: 0.3785 - accuracy: 0.8355 - val_loss: 0.3832 - val_accuracy: 0.8816\n",
      "Epoch 3/5\n",
      "114/114 [==============================] - 7s 64ms/step - loss: 0.3005 - accuracy: 0.8729 - val_loss: 0.5196 - val_accuracy: 0.7714\n",
      "Epoch 4/5\n",
      "114/114 [==============================] - 7s 65ms/step - loss: 0.2098 - accuracy: 0.9227 - val_loss: 0.5620 - val_accuracy: 0.7434\n",
      "Epoch 5/5\n",
      "114/114 [==============================] - 8s 67ms/step - loss: 0.1347 - accuracy: 0.9515 - val_loss: 0.4019 - val_accuracy: 0.8542\n"
     ]
    }
   ],
   "source": [
    "# Compile model\n",
    "\n",
    "EPOCHS = 5\n",
    "LEARNING_RATE = 0.001\n",
    "\n",
    "optimizer = Adam(learning_rate=LEARNING_RATE)\n",
    "\n",
    "model.compile(optimizer=optimizer, loss=\"binary_crossentropy\", metrics=[\"accuracy\"])\n",
    "\n",
    "# Fit model\n",
    "\n",
    "BATCH_SIZE = 64\n",
    "\n",
    "# callbacks = [EarlyStopping(monitor='val_loss')]\n",
    "\n",
    "history = model.fit(x_train_padded, ytrain, batch_size=BATCH_SIZE, epochs=EPOCHS, verbose=1, validation_split=0.2)"
   ]
  },
  {
   "cell_type": "code",
   "execution_count": null,
   "metadata": {},
   "outputs": [
    {
     "data": {
      "image/png": "[encoded data removed]",
      "text/plain": [
       "<Figure size 432x288 with 1 Axes>"
      ]
     },
     "metadata": {},
     "output_type": "display_data"
    },
    {
     "data": {
      "image/png": "[encoded data removed]",
      "text/plain": [
       "<Figure size 432x288 with 1 Axes>"
      ]
     },
     "metadata": {},
     "output_type": "display_data"
    },
    {
     "name": "stdout",
     "output_type": "stream",
     "text": [
      "72/72 - 1s - loss: 0.3998 - accuracy: 0.8632 - 867ms/epoch - 12ms/step\n",
      "Test accuracy: 0.8631578683853149\n"
     ]
    }
   ],
   "source": [
    "# Plot accuracy and loss\n",
    "\n",
    "plot_history(history)\n",
    "\n",
    "# Evaluate model\n",
    "\n",
    "loss, accuracy = model.evaluate(x_test_padded, ytest, verbose=2)\n",
    "\n",
    "print(f\"Test accuracy: {accuracy}\")"
   ]
  }
 ],
 "metadata": {
  "interpreter": {
   "hash": "bbdeae21cd698169d80b8f85757407d35b6d9920a79c4c6b4fbd15284371fc7c"
  },
  "kernelspec": {
   "display_name": "Python 3.9.7 ('final')",
   "language": "python",
   "name": "python3"
  },
  "language_info": {
   "codemirror_mode": {
    "name": "ipython",
    "version": 3
   },
   "file_extension": ".py",
   "mimetype": "text/x-python",
   "name": "python",
   "nbconvert_exporter": "python",
   "pygments_lexer": "ipython3",
   "version": "3.9.7"
  },
  "orig_nbformat": 4
 },
 "nbformat": 4,
 "nbformat_minor": 2
}
