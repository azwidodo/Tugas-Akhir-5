{
 "cells": [
  {
   "cell_type": "code",
   "execution_count": 1,
   "metadata": {},
   "outputs": [],
   "source": [
    "import ast\n",
    "import pandas as pd\n",
    "import numpy as np\n",
    "import matplotlib.pyplot as plt\n",
    "from collections import Counter\n",
    "from utils import split_sentiment, split_train_test\n",
    "\n",
    "from nltk.tokenize.treebank import TreebankWordDetokenizer\n",
    "from sklearn.model_selection import train_test_split\n",
    "\n",
    "from keras.preprocessing.text import Tokenizer\n",
    "from keras.preprocessing.sequence import pad_sequences\n",
    "from keras import regularizers\n",
    "\n",
    "from keras.models import Sequential, Model\n",
    "from keras.layers import Embedding, Dense, Flatten, Conv1D, Dropout, MaxPooling1D, Activation, GlobalMaxPooling1D, Input, Conv2D, Reshape, MaxPooling2D, concatenate\n",
    "from tensorflow.keras.optimizers import Adam, SGD\n",
    "\n",
    "from keras.callbacks import ModelCheckpoint, EarlyStopping\n",
    "from tensorflow.keras.utils import to_categorical\n",
    "\n",
    "from gensim.models import Word2Vec"
   ]
  },
  {
   "cell_type": "code",
   "execution_count": 3,
   "metadata": {},
   "outputs": [
    {
     "data": {
      "text/html": [
       "<div>\n",
       "<style scoped>\n",
       "    .dataframe tbody tr th:only-of-type {\n",
       "        vertical-align: middle;\n",
       "    }\n",
       "\n",
       "    .dataframe tbody tr th {\n",
       "        vertical-align: top;\n",
       "    }\n",
       "\n",
       "    .dataframe thead th {\n",
       "        text-align: right;\n",
       "    }\n",
       "</style>\n",
       "<table border=\"1\" class=\"dataframe\">\n",
       "  <thead>\n",
       "    <tr style=\"text-align: right;\">\n",
       "      <th></th>\n",
       "      <th>review_id</th>\n",
       "      <th>text</th>\n",
       "      <th>sentiment</th>\n",
       "      <th>detoken</th>\n",
       "    </tr>\n",
       "  </thead>\n",
       "  <tbody>\n",
       "    <tr>\n",
       "      <th>0</th>\n",
       "      <td>705b4be0c87fc1a69fbbd6a12d4973a7</td>\n",
       "      <td>[ugh, hat, last, book, in, series, poor, way, ...</td>\n",
       "      <td>0</td>\n",
       "      <td>ugh hat last book in series poor way end trilogy</td>\n",
       "    </tr>\n",
       "    <tr>\n",
       "      <th>1</th>\n",
       "      <td>9c8dfa25aa1c02eaa1784558401ada6c</td>\n",
       "      <td>[start, out, strong, but, go, downhill, fairly...</td>\n",
       "      <td>0</td>\n",
       "      <td>start out strong but go downhill fairly quickl...</td>\n",
       "    </tr>\n",
       "    <tr>\n",
       "      <th>2</th>\n",
       "      <td>674c63c16f14e97d0d5b92237d061e04</td>\n",
       "      <td>[decently, write, ya, book, but, can, even, co...</td>\n",
       "      <td>0</td>\n",
       "      <td>decently write ya book but can even consider e...</td>\n",
       "    </tr>\n",
       "    <tr>\n",
       "      <th>3</th>\n",
       "      <td>e59c12c5107de7baeffa922d37f9b862</td>\n",
       "      <td>[book, simultaneously, bore, death, annoy, hel...</td>\n",
       "      <td>0</td>\n",
       "      <td>book simultaneously bore death annoy hell out ...</td>\n",
       "    </tr>\n",
       "    <tr>\n",
       "      <th>4</th>\n",
       "      <td>6805d23d0e5030a6bb9b6666623bedea</td>\n",
       "      <td>[ugh, try, honestly, try, huge, fan, scott, we...</td>\n",
       "      <td>0</td>\n",
       "      <td>ugh try honestly try huge fan scott westerfeld...</td>\n",
       "    </tr>\n",
       "  </tbody>\n",
       "</table>\n",
       "</div>"
      ],
      "text/plain": [
       "                          review_id  \\\n",
       "0  705b4be0c87fc1a69fbbd6a12d4973a7   \n",
       "1  9c8dfa25aa1c02eaa1784558401ada6c   \n",
       "2  674c63c16f14e97d0d5b92237d061e04   \n",
       "3  e59c12c5107de7baeffa922d37f9b862   \n",
       "4  6805d23d0e5030a6bb9b6666623bedea   \n",
       "\n",
       "                                                text  sentiment  \\\n",
       "0  [ugh, hat, last, book, in, series, poor, way, ...          0   \n",
       "1  [start, out, strong, but, go, downhill, fairly...          0   \n",
       "2  [decently, write, ya, book, but, can, even, co...          0   \n",
       "3  [book, simultaneously, bore, death, annoy, hel...          0   \n",
       "4  [ugh, try, honestly, try, huge, fan, scott, we...          0   \n",
       "\n",
       "                                             detoken  \n",
       "0   ugh hat last book in series poor way end trilogy  \n",
       "1  start out strong but go downhill fairly quickl...  \n",
       "2  decently write ya book but can even consider e...  \n",
       "3  book simultaneously bore death annoy hell out ...  \n",
       "4  ugh try honestly try huge fan scott westerfeld...  "
      ]
     },
     "execution_count": 3,
     "metadata": {},
     "output_type": "execute_result"
    }
   ],
   "source": [
    "df = pd.read_csv(\"cleaned_data/cleaned_reviews_2.csv\")\n",
    "df[\"text\"] = df[\"text\"].apply(lambda x: ast.literal_eval(x))\n",
    "df[\"detoken\"] = df[\"text\"].apply(lambda y: TreebankWordDetokenizer().tokenize(y))\n",
    "df.head()"
   ]
  },
  {
   "cell_type": "code",
   "execution_count": 3,
   "metadata": {},
   "outputs": [
    {
     "name": "stdout",
     "output_type": "stream",
     "text": [
      "<class 'pandas.core.frame.DataFrame'>\n",
      "RangeIndex: 20000 entries, 0 to 19999\n",
      "Data columns (total 4 columns):\n",
      " #   Column     Non-Null Count  Dtype \n",
      "---  ------     --------------  ----- \n",
      " 0   review_id  20000 non-null  object\n",
      " 1   text       20000 non-null  object\n",
      " 2   sentiment  20000 non-null  int64 \n",
      " 3   detoken    20000 non-null  object\n",
      "dtypes: int64(1), object(3)\n",
      "memory usage: 625.1+ KB\n"
     ]
    }
   ],
   "source": [
    "df.info()"
   ]
  },
  {
   "cell_type": "code",
   "execution_count": 4,
   "metadata": {},
   "outputs": [
    {
     "name": "stdout",
     "output_type": "stream",
     "text": [
      "There are 1417110 train words in total and the vocabulary size is 31024.\n"
     ]
    }
   ],
   "source": [
    "df_pos, df_neg = split_sentiment(df)\n",
    "df_train, df_test = split_train_test(df_pos, df_neg, 222)\n",
    "\n",
    "train_words = [word for text in df_train[\"text\"] for word in text]\n",
    "train_text_length = [len(text) for text in df_train[\"text\"]]\n",
    "\n",
    "vocab = list(set(train_words))\n",
    "vocab_size = len(vocab)\n",
    "\n",
    "print(f\"There are {len(train_words)} train words in total and the vocabulary size is {vocab_size}.\")"
   ]
  },
  {
   "cell_type": "code",
   "execution_count": 19,
   "metadata": {},
   "outputs": [
    {
     "name": "stdout",
     "output_type": "stream",
     "text": [
      "200\n",
      "(16000, 200)\n",
      "(4000, 200)\n",
      "(16000,)\n",
      "(4000,)\n",
      "Found 31058 unique tokens\n"
     ]
    }
   ],
   "source": [
    "train_data = df_train[\"detoken\"].tolist()\n",
    "test_data = df_test[\"detoken\"].tolist()\n",
    "\n",
    "tokenizer = Tokenizer(num_words=20000)\n",
    "tokenizer.fit_on_texts(train_data)\n",
    "\n",
    "word_index = tokenizer.word_index\n",
    "\n",
    "train_sequences = tokenizer.texts_to_sequences(train_data)\n",
    "test_sequences = tokenizer.texts_to_sequences(test_data)\n",
    "\n",
    "# max_length = max(max([len(x) for x in train_sequences]), max([len(x) for x in test_sequences]))\n",
    "max_length = 200\n",
    "\n",
    "x_train_padded = pad_sequences(train_sequences, maxlen=max_length, padding=\"post\")\n",
    "x_test_padded = pad_sequences(test_sequences, maxlen=max_length, padding=\"post\")\n",
    "\n",
    "ytrain, ytest = np.asarray(df_train[\"sentiment\"]), np.asarray(df_test[\"sentiment\"])\n",
    "\n",
    "print(max_length)\n",
    "print(x_train_padded.shape)\n",
    "print(x_test_padded.shape)\n",
    "print(ytrain.shape)\n",
    "print(ytest.shape)\n",
    "print(f\"Found {len(word_index)} unique tokens\")"
   ]
  },
  {
   "cell_type": "code",
   "execution_count": null,
   "metadata": {},
   "outputs": [],
   "source": [
    "# Build model\n",
    "\n",
    "model = Sequential()\n",
    "model.add(Embedding(20000, 256, input_length=max_length))\n",
    "model.add(Conv1D(filters=128, kernel_size=5))\n",
    "model.add(Activation(\"relu\"))\n",
    "model.add(MaxPooling1D(5))\n",
    "model.add(Conv1D(filters=128, kernel_size=5))\n",
    "model.add(Activation(\"relu\"))\n",
    "model.add(MaxPooling1D(5))\n",
    "model.add(Conv1D(filters=64, kernel_size=5))\n",
    "model.add(Activation(\"relu\"))\n",
    "model.add(MaxPooling1D(5))\n",
    "model.add(Flatten())\n",
    "model.add(Dense(32, activation='relu'))\n",
    "model.add(Dropout(0.2))\n",
    "model.add(Dense(1, activation='sigmoid'))\n",
    "\n",
    "print(model.summary())"
   ]
  },
  {
   "cell_type": "code",
   "execution_count": null,
   "metadata": {},
   "outputs": [],
   "source": [
    "# Compile model\n",
    "\n",
    "EPOCHS = 2\n",
    "LEARNING_RATE = 0.5\n",
    "DECAY_RATE = LEARNING_RATE / EPOCHS\n",
    "MOMENTUM = 0.1\n",
    "\n",
    "optimizer = Adam(learning_rate=LEARNING_RATE)\n",
    "# optimizer = SGD(learning_rate=LEARNING_RATE, momentum=MOMENTUM, decay=DECAY_RATE)\n",
    "\n",
    "model.compile(optimizer=optimizer, loss=\"binary_crossentropy\", metrics=[\"accuracy\"])"
   ]
  },
  {
   "cell_type": "code",
   "execution_count": null,
   "metadata": {},
   "outputs": [],
   "source": [
    "# Checkpoint\n",
    "\n",
    "checkpoint_path = \"weights.best.hdf5\"\n",
    "checkpoint = ModelCheckpoint(checkpoint_path, monitor='val_accuracy', verbose=1, save_best_only=True, mode='max')\n",
    "callbacks_list = [checkpoint]"
   ]
  },
  {
   "cell_type": "code",
   "execution_count": null,
   "metadata": {},
   "outputs": [],
   "source": [
    "# Fit model\n",
    "\n",
    "BATCH_SIZE = 64\n",
    "\n",
    "history = model.fit(x_train_padded, ytrain, batch_size=BATCH_SIZE, epochs=EPOCHS, verbose=1, callbacks=callbacks_list, validation_split=0.2)"
   ]
  },
  {
   "cell_type": "code",
   "execution_count": null,
   "metadata": {},
   "outputs": [],
   "source": [
    "# Plotting accuracy on training data\n",
    "\n",
    "plt.plot(history.history['accuracy'])\n",
    "plt.plot(history.history['val_accuracy'])\n",
    "plt.title('model accuracy')\n",
    "plt.ylabel('accuracy')\n",
    "plt.xlabel('epoch')\n",
    "plt.legend(['train', 'test'], loc='upper left')\n",
    "plt.show()\n",
    "\n",
    "# Plotting loss\n",
    "\n",
    "plt.plot(history.history['loss'])\n",
    "plt.plot(history.history['val_loss'])\n",
    "plt.title('model loss')\n",
    "plt.ylabel('loss')\n",
    "plt.xlabel('epoch')\n",
    "plt.legend(['train', 'test'], loc='upper left')\n",
    "plt.show()"
   ]
  },
  {
   "cell_type": "code",
   "execution_count": null,
   "metadata": {},
   "outputs": [],
   "source": [
    "# Evaluate model\n",
    "\n",
    "loss, accuracy = model.evaluate(x_test_padded, ytest, verbose=2)\n",
    "\n",
    "print(f\"Test accuracy: {accuracy}\")"
   ]
  },
  {
   "cell_type": "markdown",
   "metadata": {},
   "source": [
    "## WITH WORD2VEC"
   ]
  },
  {
   "cell_type": "code",
   "execution_count": null,
   "metadata": {},
   "outputs": [],
   "source": [
    "df_train[\"text\"].tolist()"
   ]
  },
  {
   "cell_type": "code",
   "execution_count": null,
   "metadata": {},
   "outputs": [],
   "source": [
    "all_sents = df_train[\"text\"]\n",
    "all_tokens = []\n",
    "for sent in all_sents:\n",
    "    all_tokens += sent\n",
    "\n",
    "set_tokens = set(all_tokens)\n",
    "print(f\"Total of words: {len(all_tokens)}. Vocab size: {len(set_tokens)}\")"
   ]
  },
  {
   "cell_type": "code",
   "execution_count": null,
   "metadata": {},
   "outputs": [],
   "source": [
    "# train_data as list of lists (of the train reviews)\n",
    "wtv_model = Word2Vec(df_train[\"text\"].tolist(), min_count=1)\n",
    "wtv_model.save(\"word2vec.model\")\n",
    "wtv_model.wv.save_word2vec_format(\"word2vec.txt\", binary=False)"
   ]
  },
  {
   "cell_type": "code",
   "execution_count": null,
   "metadata": {},
   "outputs": [],
   "source": [
    "wtv_model = Word2Vec.load(\"word2vec.model\")\n",
    "print(f\"Length of model is equals to vocab size: {len(wtv_model.wv)}\")\n",
    "\n",
    "word = \"slow\"\n",
    "word_idx = wtv_model.wv.key_to_index[word]\n",
    "word_vector = wtv_model.wv.get_vector(word, norm=True)\n",
    "print(word_idx)\n",
    "print(wtv_model.wv.most_similar(word))"
   ]
  },
  {
   "cell_type": "markdown",
   "metadata": {},
   "source": [
    "## Glove Embeddings"
   ]
  },
  {
   "cell_type": "code",
   "execution_count": 6,
   "metadata": {},
   "outputs": [],
   "source": [
    "embeddings_dict = {}\n",
    "with open(\"glove.42B.300d.txt\", \"r\", encoding=\"utf-8\") as f:\n",
    "    for line in f:\n",
    "        values = line.split()\n",
    "        token = values[0]\n",
    "        vector = np.asarray(values[1:], \"float32\")\n",
    "        embeddings_dict[token] = vector"
   ]
  },
  {
   "cell_type": "code",
   "execution_count": 20,
   "metadata": {},
   "outputs": [],
   "source": [
    "def vocab_build(review_set):\n",
    "\n",
    "    vocab = Counter()\n",
    "\n",
    "    for review in review_set:\n",
    "        for token in review:\n",
    "            vocab[token] += 1\n",
    "\n",
    "    return vocab\n",
    "\n",
    "vocab_train = vocab_build(df_train[\"text\"])\n",
    "vocab_test = vocab_build(df_test[\"text\"])"
   ]
  },
  {
   "cell_type": "code",
   "execution_count": 21,
   "metadata": {},
   "outputs": [
    {
     "name": "stdout",
     "output_type": "stream",
     "text": [
      "Glove embeddings cover 91.69% of vocabulary and 99.72% text in training set\n",
      "Glove embeddings cover 95.95% of vocabulary and 99.74% text in testing set\n"
     ]
    }
   ],
   "source": [
    "def embedding_coverage(review_set, embeddings_dict):\n",
    "    \n",
    "    vocab = vocab_build(review_set)\n",
    "\n",
    "    covered = {}\n",
    "    word_count = {}\n",
    "    oov = {}\n",
    "    covered_num = 0\n",
    "    oov_num = 0\n",
    "\n",
    "    for word in vocab:\n",
    "        try:\n",
    "            covered[word] = embeddings_dict[word]\n",
    "            covered_num += vocab[word]\n",
    "            word_count[word] = vocab[word]\n",
    "        \n",
    "        except:\n",
    "            oov[word] = vocab[word]\n",
    "            oov_num += oov[word]\n",
    "\n",
    "    vocab_coverage = len(covered) / len(vocab) * 100\n",
    "    text_coverage = covered_num / (covered_num + oov_num) * 100\n",
    "    \n",
    "    return word_count, oov, vocab_coverage, text_coverage\n",
    "\n",
    "train_covered, train_oov, train_vocab_coverage, train_text_coverage = embedding_coverage(df_train[\"text\"], embeddings_dict)\n",
    "test_covered, test_oov, test_vocab_coverage, test_text_coverage = embedding_coverage(df_test[\"text\"],embeddings_dict)\n",
    "\n",
    "print(f\"Glove embeddings cover {round(train_vocab_coverage,2)}% of vocabulary and {round(train_text_coverage,2)}% text in training set\")\n",
    "print(f\"Glove embeddings cover {round(test_vocab_coverage,2)}% of vocabulary and {round(test_text_coverage,2)}% text in testing set\")"
   ]
  },
  {
   "cell_type": "code",
   "execution_count": 30,
   "metadata": {},
   "outputs": [],
   "source": [
    "EMBEDDING_DIM = 300\n",
    "MAX_WORDS = 20000\n",
    "vocab_size = min(len(word_index) + 1, MAX_WORDS)\n",
    "\n",
    "embedding_matrix = np.zeros((vocab_size, EMBEDDING_DIM))\n",
    "\n",
    "for word, i in word_index.items():\n",
    "    if i >= MAX_WORDS:\n",
    "        continue\n",
    "    \n",
    "    try:\n",
    "        embedding_vector = embeddings_dict[word]\n",
    "        embedding_matrix[i] = embedding_vector\n",
    "    \n",
    "    except KeyError:\n",
    "        embedding_vector = np.zeros(EMBEDDING_DIM)\n",
    "        embedding_matrix[i] = embedding_vector\n",
    "\n",
    "embedding_layer = Embedding(vocab_size, EMBEDDING_DIM, weights=[embedding_matrix], input_length=max_length, trainable=False)\n",
    "\n",
    "del(embedding_matrix)"
   ]
  },
  {
   "cell_type": "code",
   "execution_count": 31,
   "metadata": {},
   "outputs": [],
   "source": [
    "sequence_input = Input(shape=(max_length,), dtype=\"int32\")\n",
    "embedded_sequences = embedding_layer(sequence_input)\n",
    "x = Conv1D(128, 5, activation='relu')(embedded_sequences)\n",
    "x = Dropout(0.2)(x)\n",
    "x = MaxPooling1D(5)(x)\n",
    "x = Conv1D(128, 5, activation='relu')(x)\n",
    "x = Dropout(0.3)(x)\n",
    "x = MaxPooling1D(5)(x)\n",
    "x = Conv1D(128, 5, activation='relu')(x)\n",
    "x = GlobalMaxPooling1D()(x)\n",
    "x = Dense(128, activation='relu')(x)\n",
    "preds = Dense(1, activation='sigmoid')(x)\n",
    "\n",
    "model = Model(sequence_input, preds)"
   ]
  },
  {
   "cell_type": "code",
   "execution_count": 32,
   "metadata": {},
   "outputs": [],
   "source": [
    "EPOCHS = 10\n",
    "LEARNING_RATE = 0.001\n",
    "DECAY_RATE = LEARNING_RATE / EPOCHS\n",
    "MOMENTUM = 0.1\n",
    "\n",
    "optimizer = Adam(learning_rate=LEARNING_RATE)\n",
    "# optimizer = SGD(learning_rate=LEARNING_RATE, momentum=MOMENTUM, decay=DECAY_RATE)\n",
    "\n",
    "model.compile(optimizer=optimizer, loss=\"binary_crossentropy\", metrics=[\"accuracy\"])\n",
    "\n",
    "# checkpoint_path = \"weights.best.hdf5\"\n",
    "# checkpoint = ModelCheckpoint(checkpoint_path, monitor='val_accuracy', verbose=1, save_best_only=True, mode='max')\n",
    "# callbacks_list = [checkpoint]"
   ]
  },
  {
   "cell_type": "code",
   "execution_count": 33,
   "metadata": {},
   "outputs": [
    {
     "name": "stdout",
     "output_type": "stream",
     "text": [
      "Epoch 1/10\n",
      "200/200 [==============================] - 16s 75ms/step - loss: 0.4801 - accuracy: 0.7609 - val_loss: 0.3211 - val_accuracy: 0.8753\n",
      "Epoch 2/10\n",
      "200/200 [==============================] - 14s 72ms/step - loss: 0.3174 - accuracy: 0.8639 - val_loss: 0.4181 - val_accuracy: 0.8213\n",
      "Epoch 3/10\n",
      "200/200 [==============================] - 14s 72ms/step - loss: 0.2527 - accuracy: 0.8951 - val_loss: 0.8715 - val_accuracy: 0.6300\n",
      "Epoch 4/10\n",
      "200/200 [==============================] - 21s 105ms/step - loss: 0.1770 - accuracy: 0.9283 - val_loss: 0.7715 - val_accuracy: 0.6650\n",
      "Epoch 5/10\n",
      "200/200 [==============================] - 16s 80ms/step - loss: 0.1404 - accuracy: 0.9463 - val_loss: 0.2981 - val_accuracy: 0.8697\n",
      "Epoch 6/10\n",
      "200/200 [==============================] - 18s 88ms/step - loss: 0.0919 - accuracy: 0.9640 - val_loss: 0.4083 - val_accuracy: 0.8534\n",
      "Epoch 7/10\n",
      "200/200 [==============================] - 16s 80ms/step - loss: 0.0710 - accuracy: 0.9705 - val_loss: 0.6151 - val_accuracy: 0.7903\n",
      "Epoch 8/10\n",
      "200/200 [==============================] - 17s 86ms/step - loss: 0.0704 - accuracy: 0.9712 - val_loss: 1.4072 - val_accuracy: 0.6534\n",
      "Epoch 9/10\n",
      "200/200 [==============================] - 16s 82ms/step - loss: 0.0567 - accuracy: 0.9773 - val_loss: 0.4704 - val_accuracy: 0.8512\n",
      "Epoch 10/10\n",
      "200/200 [==============================] - 18s 89ms/step - loss: 0.0648 - accuracy: 0.9748 - val_loss: 0.7585 - val_accuracy: 0.7644\n"
     ]
    }
   ],
   "source": [
    "# Fit model\n",
    "\n",
    "BATCH_SIZE = 64\n",
    "\n",
    "# callbacks = [EarlyStopping(monitor='val_loss')]\n",
    "\n",
    "history = model.fit(x_train_padded, ytrain, batch_size=BATCH_SIZE, epochs=EPOCHS, verbose=1, validation_split=0.2)"
   ]
  },
  {
   "cell_type": "code",
   "execution_count": 34,
   "metadata": {},
   "outputs": [
    {
     "data": {
      "image/png": "[encoded data removed]",
      "text/plain": [
       "<Figure size 432x288 with 1 Axes>"
      ]
     },
     "metadata": {
      "needs_background": "light"
     },
     "output_type": "display_data"
    },
    {
     "data": {
      "image/png": "[encoded data removed]",
      "text/plain": [
       "<Figure size 432x288 with 1 Axes>"
      ]
     },
     "metadata": {
      "needs_background": "light"
     },
     "output_type": "display_data"
    }
   ],
   "source": [
    "# Plotting accuracy on training data\n",
    "\n",
    "plt.plot(history.history['accuracy'])\n",
    "plt.plot(history.history['val_accuracy'])\n",
    "plt.title('model accuracy')\n",
    "plt.ylabel('accuracy')\n",
    "plt.xlabel('epoch')\n",
    "plt.legend(['train', 'test'], loc='upper left')\n",
    "plt.show()\n",
    "\n",
    "# Plotting loss\n",
    "\n",
    "plt.plot(history.history['loss'])\n",
    "plt.plot(history.history['val_loss'])\n",
    "plt.title('model loss')\n",
    "plt.ylabel('loss')\n",
    "plt.xlabel('epoch')\n",
    "plt.legend(['train', 'test'], loc='upper left')\n",
    "plt.show()"
   ]
  },
  {
   "cell_type": "code",
   "execution_count": 35,
   "metadata": {},
   "outputs": [
    {
     "name": "stdout",
     "output_type": "stream",
     "text": [
      "125/125 - 2s - loss: 0.5085 - accuracy: 0.8363 - 2s/epoch - 16ms/step\n",
      "Test accuracy: 0.8362500071525574\n"
     ]
    }
   ],
   "source": [
    "# Evaluate model\n",
    "\n",
    "loss, accuracy = model.evaluate(x_test_padded, ytest, verbose=2)\n",
    "\n",
    "print(f\"Test accuracy: {accuracy}\")"
   ]
  }
 ],
 "metadata": {
  "interpreter": {
   "hash": "bbdeae21cd698169d80b8f85757407d35b6d9920a79c4c6b4fbd15284371fc7c"
  },
  "kernelspec": {
   "display_name": "Python 3 (ipykernel)",
   "language": "python",
   "name": "python3"
  },
  "language_info": {
   "codemirror_mode": {
    "name": "ipython",
    "version": 3
   },
   "file_extension": ".py",
   "mimetype": "text/x-python",
   "name": "python",
   "nbconvert_exporter": "python",
   "pygments_lexer": "ipython3",
   "version": "3.9.7"
  }
 },
 "nbformat": 4,
 "nbformat_minor": 4
}
