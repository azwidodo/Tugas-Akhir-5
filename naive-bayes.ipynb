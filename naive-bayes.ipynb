{
 "cells": [
  {
   "cell_type": "markdown",
   "metadata": {},
   "source": [
    "# Sentiment Analysis with Naive Bayes Classifier"
   ]
  },
  {
   "cell_type": "code",
   "execution_count": 1,
   "metadata": {},
   "outputs": [],
   "source": [
    "import ast\n",
    "import math\n",
    "import pandas as pd\n",
    "import numpy as np\n",
    "from collections import Counter\n",
    "from utils import split_sentiment, split_train_test\n",
    "from sklearn.feature_extraction.text import CountVectorizer, TfidfVectorizer\n",
    "from sklearn.model_selection import train_test_split\n",
    "from sklearn.naive_bayes import MultinomialNB\n",
    "from sklearn import metrics\n",
    "from sklearn.pipeline import make_pipeline\n",
    "from sklearn.preprocessing import LabelBinarizer"
   ]
  },
  {
   "cell_type": "code",
   "execution_count": 2,
   "metadata": {},
   "outputs": [
    {
     "data": {
      "text/html": [
       "<div>\n",
       "<style scoped>\n",
       "    .dataframe tbody tr th:only-of-type {\n",
       "        vertical-align: middle;\n",
       "    }\n",
       "\n",
       "    .dataframe tbody tr th {\n",
       "        vertical-align: top;\n",
       "    }\n",
       "\n",
       "    .dataframe thead th {\n",
       "        text-align: right;\n",
       "    }\n",
       "</style>\n",
       "<table border=\"1\" class=\"dataframe\">\n",
       "  <thead>\n",
       "    <tr style=\"text-align: right;\">\n",
       "      <th></th>\n",
       "      <th>review_id</th>\n",
       "      <th>text</th>\n",
       "      <th>sentiment</th>\n",
       "    </tr>\n",
       "  </thead>\n",
       "  <tbody>\n",
       "    <tr>\n",
       "      <th>0</th>\n",
       "      <td>705b4be0c87fc1a69fbbd6a12d4973a7</td>\n",
       "      <td>['ugh', 'hat', 'last', 'book', 'in', 'series',...</td>\n",
       "      <td>0</td>\n",
       "    </tr>\n",
       "    <tr>\n",
       "      <th>1</th>\n",
       "      <td>9c8dfa25aa1c02eaa1784558401ada6c</td>\n",
       "      <td>['start', 'out', 'strong', 'but', 'go', 'downh...</td>\n",
       "      <td>0</td>\n",
       "    </tr>\n",
       "    <tr>\n",
       "      <th>2</th>\n",
       "      <td>674c63c16f14e97d0d5b92237d061e04</td>\n",
       "      <td>['decently', 'write', 'ya', 'book', 'but', 'ca...</td>\n",
       "      <td>0</td>\n",
       "    </tr>\n",
       "    <tr>\n",
       "      <th>3</th>\n",
       "      <td>e59c12c5107de7baeffa922d37f9b862</td>\n",
       "      <td>['book', 'simultaneously', 'bore', 'death', 'a...</td>\n",
       "      <td>0</td>\n",
       "    </tr>\n",
       "    <tr>\n",
       "      <th>4</th>\n",
       "      <td>6805d23d0e5030a6bb9b6666623bedea</td>\n",
       "      <td>['ugh', 'try', 'honestly', 'try', 'huge', 'fan...</td>\n",
       "      <td>0</td>\n",
       "    </tr>\n",
       "  </tbody>\n",
       "</table>\n",
       "</div>"
      ],
      "text/plain": [
       "                          review_id  \\\n",
       "0  705b4be0c87fc1a69fbbd6a12d4973a7   \n",
       "1  9c8dfa25aa1c02eaa1784558401ada6c   \n",
       "2  674c63c16f14e97d0d5b92237d061e04   \n",
       "3  e59c12c5107de7baeffa922d37f9b862   \n",
       "4  6805d23d0e5030a6bb9b6666623bedea   \n",
       "\n",
       "                                                text  sentiment  \n",
       "0  ['ugh', 'hat', 'last', 'book', 'in', 'series',...          0  \n",
       "1  ['start', 'out', 'strong', 'but', 'go', 'downh...          0  \n",
       "2  ['decently', 'write', 'ya', 'book', 'but', 'ca...          0  \n",
       "3  ['book', 'simultaneously', 'bore', 'death', 'a...          0  \n",
       "4  ['ugh', 'try', 'honestly', 'try', 'huge', 'fan...          0  "
      ]
     },
     "execution_count": 2,
     "metadata": {},
     "output_type": "execute_result"
    }
   ],
   "source": [
    "df = pd.read_csv(\"cleaned_data/cleaned_reviews_2.csv\")\n",
    "df.head()"
   ]
  },
  {
   "cell_type": "markdown",
   "metadata": {},
   "source": [
    "## Naive Bayes with SKLearn"
   ]
  },
  {
   "cell_type": "code",
   "execution_count": 14,
   "metadata": {},
   "outputs": [
    {
     "name": "stdout",
     "output_type": "stream",
     "text": [
      "0.851\n"
     ]
    }
   ],
   "source": [
    "# Training with Count Vectorizer\n",
    "\n",
    "x_train, x_test, y_train, y_test = train_test_split(df[\"text\"], df[\"sentiment\"], test_size=0.2, random_state=1)\n",
    "\n",
    "cv = CountVectorizer().fit(x_train)\n",
    "x_train_vec = cv.transform(x_train)\n",
    "\n",
    "MNB = MultinomialNB()\n",
    "MNB.fit(x_train_vec, y_train)\n",
    "predicted = MNB.predict(cv.transform(x_test))\n",
    "accuracy = metrics.accuracy_score(predicted, y_test)\n",
    "print(accuracy)"
   ]
  },
  {
   "cell_type": "code",
   "execution_count": 15,
   "metadata": {},
   "outputs": [
    {
     "name": "stdout",
     "output_type": "stream",
     "text": [
      "0.852\n"
     ]
    }
   ],
   "source": [
    "# Training with Term Frequency - Inverse Document Frequency\n",
    "\n",
    "x_train_2, x_test_2, y_train_2, y_test_2 = train_test_split(df[\"text\"], df[\"sentiment\"], test_size=0.2, random_state=1)\n",
    "\n",
    "tfidf = TfidfVectorizer().fit(x_train_2)\n",
    "x_train_vec_2 = tfidf.transform(x_train_2)\n",
    "\n",
    "MNB.fit(x_train_vec_2, y_train_2)\n",
    "predicted_2 = MNB.predict(tfidf.transform(x_test_2))\n",
    "accuracy_2 = metrics.accuracy_score(predicted_2, y_test_2)\n",
    "print(accuracy_2)"
   ]
  },
  {
   "cell_type": "code",
   "execution_count": 16,
   "metadata": {},
   "outputs": [
    {
     "name": "stdout",
     "output_type": "stream",
     "text": [
      "0.851\n"
     ]
    }
   ],
   "source": [
    "# Pipeline - same thing as both of them\n",
    "\n",
    "model = make_pipeline(CountVectorizer(), MultinomialNB())\n",
    "model.fit(x_train, y_train)\n",
    "labels = model.predict(x_test)\n",
    "accuracy_3 = metrics.accuracy_score(labels, y_test)\n",
    "print(accuracy_3)"
   ]
  },
  {
   "cell_type": "markdown",
   "metadata": {},
   "source": [
    "## Naive Bayes from Scratch"
   ]
  },
  {
   "cell_type": "code",
   "execution_count": 3,
   "metadata": {},
   "outputs": [],
   "source": [
    "# Create x and y for training and testing\n",
    "def create_xy(df_train, df_test):\n",
    "    cv = CountVectorizer().fit(df_train[\"text\"])\n",
    "\n",
    "    x_train = cv.transform(df_train[\"text\"]).toarray()\n",
    "    x_test = cv.transform(df_test[\"text\"]).toarray()\n",
    "\n",
    "    y_train = np.array(df_train[\"sentiment\"])\n",
    "    y_test = np.array(df_test[\"sentiment\"])\n",
    "\n",
    "    return x_train, x_test, y_train, y_test\n",
    "\n",
    "\n",
    "# Feature counts and log probabilities\n",
    "def feature_log_probs(x_train, y_train):\n",
    "    y = LabelBinarizer().fit_transform(y_train)\n",
    "\n",
    "    if y.shape[1] == 1:\n",
    "        y = np.concatenate((1 - y, y), axis=1)\n",
    "\n",
    "    fc = np.matmul(y.T, x_train)\n",
    "\n",
    "    smoothed_fc = fc + 1\n",
    "    smoothed_cc = smoothed_fc.sum(axis=1)\n",
    "    log_probs = np.log(smoothed_fc) - np.log(smoothed_cc.reshape(-1, 1))\n",
    "\n",
    "    return log_probs\n",
    "\n",
    "\n",
    "# Predict using posterior probabilities\n",
    "def predict(x_test, log_probs):\n",
    "    posterior = np.matmul(x_test, log_probs.T)\n",
    "    prediction = np.argmax(posterior, axis=1)\n",
    "\n",
    "    return prediction"
   ]
  },
  {
   "cell_type": "code",
   "execution_count": 5,
   "metadata": {},
   "outputs": [
    {
     "name": "stdout",
     "output_type": "stream",
     "text": [
      "0.8585\n"
     ]
    }
   ],
   "source": [
    "df_pos, df_neg = split_sentiment(df)\n",
    "df_train, df_test = split_train_test(df_pos, df_neg, 222)\n",
    "\n",
    "x_train, x_test, y_train, y_test = create_xy(df_train, df_test)\n",
    "log_probs = feature_log_probs(x_train, y_train)\n",
    "\n",
    "y_predict = predict(x_test, log_probs)\n",
    "accuracy = metrics.accuracy_score(y_test, y_predict)\n",
    "print(accuracy)"
   ]
  }
 ],
 "metadata": {
  "interpreter": {
   "hash": "bbdeae21cd698169d80b8f85757407d35b6d9920a79c4c6b4fbd15284371fc7c"
  },
  "kernelspec": {
   "display_name": "Python 3.9.7 64-bit ('final': conda)",
   "name": "python3"
  },
  "language_info": {
   "codemirror_mode": {
    "name": "ipython",
    "version": 3
   },
   "file_extension": ".py",
   "mimetype": "text/x-python",
   "name": "python",
   "nbconvert_exporter": "python",
   "pygments_lexer": "ipython3",
   "version": "3.9.7"
  },
  "orig_nbformat": 4
 },
 "nbformat": 4,
 "nbformat_minor": 2
}
