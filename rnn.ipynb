{
  "cells": [
    {
      "cell_type": "code",
      "execution_count": 1,
      "metadata": {
        "id": "BZCVbda0DYq5"
      },
      "outputs": [],
      "source": [
        "import ast\n",
        "import pandas as pd\n",
        "import numpy as np\n",
        "import matplotlib.pyplot as plt\n",
        "from collections import Counter\n",
        "from utils import *\n",
        "\n",
        "from nltk.tokenize.treebank import TreebankWordDetokenizer\n",
        "from sklearn.model_selection import train_test_split\n",
        "\n",
        "from keras.preprocessing.text import Tokenizer\n",
        "from keras.preprocessing.sequence import pad_sequences\n",
        "from keras import regularizers\n",
        "\n",
        "from keras.models import Sequential, Model\n",
        "from keras.layers import Embedding, Dense, Flatten, Conv1D, Dropout, MaxPooling1D, Activation, GlobalMaxPooling1D, Input, Conv2D, Reshape, LSTM, Bidirectional\n",
        "from tensorflow.keras.optimizers import Adam, SGD\n",
        "\n",
        "from keras.callbacks import ModelCheckpoint, EarlyStopping\n",
        "from tensorflow.keras.utils import to_categorical\n",
        "\n",
        "from gensim.models import Word2Vec"
      ]
    },
    {
      "cell_type": "code",
      "execution_count": 6,
      "metadata": {},
      "outputs": [
        {
          "data": {
            "text/html": [
              "<div>\n",
              "<style scoped>\n",
              "    .dataframe tbody tr th:only-of-type {\n",
              "        vertical-align: middle;\n",
              "    }\n",
              "\n",
              "    .dataframe tbody tr th {\n",
              "        vertical-align: top;\n",
              "    }\n",
              "\n",
              "    .dataframe thead th {\n",
              "        text-align: right;\n",
              "    }\n",
              "</style>\n",
              "<table border=\"1\" class=\"dataframe\">\n",
              "  <thead>\n",
              "    <tr style=\"text-align: right;\">\n",
              "      <th></th>\n",
              "      <th>review</th>\n",
              "      <th>text</th>\n",
              "      <th>rating</th>\n",
              "      <th>sentiment</th>\n",
              "    </tr>\n",
              "  </thead>\n",
              "  <tbody>\n",
              "    <tr>\n",
              "      <th>0</th>\n",
              "      <td>Ugh I hated the last book in this series- what...</td>\n",
              "      <td>['ugh', 'hat', 'last', 'book', 'in', 'series',...</td>\n",
              "      <td>1</td>\n",
              "      <td>0</td>\n",
              "    </tr>\n",
              "    <tr>\n",
              "      <th>1</th>\n",
              "      <td>This started out strong, but it went downhill ...</td>\n",
              "      <td>['start', 'out', 'strong', 'but', 'go', 'downh...</td>\n",
              "      <td>1</td>\n",
              "      <td>0</td>\n",
              "    </tr>\n",
              "    <tr>\n",
              "      <th>2</th>\n",
              "      <td>A decently written YA book, but I can't even c...</td>\n",
              "      <td>['decently', 'write', 'ya', 'book', 'but', 'ca...</td>\n",
              "      <td>1</td>\n",
              "      <td>0</td>\n",
              "    </tr>\n",
              "    <tr>\n",
              "      <th>3</th>\n",
              "      <td>This book simultaneously bored me to death and...</td>\n",
              "      <td>['book', 'simultaneously', 'bore', 'death', 'a...</td>\n",
              "      <td>1</td>\n",
              "      <td>0</td>\n",
              "    </tr>\n",
              "    <tr>\n",
              "      <th>4</th>\n",
              "      <td>Ugh...I tried, I honestly tried. I'm a huge fa...</td>\n",
              "      <td>['ugh', 'try', 'honestly', 'try', 'huge', 'fan...</td>\n",
              "      <td>1</td>\n",
              "      <td>0</td>\n",
              "    </tr>\n",
              "    <tr>\n",
              "      <th>...</th>\n",
              "      <td>...</td>\n",
              "      <td>...</td>\n",
              "      <td>...</td>\n",
              "      <td>...</td>\n",
              "    </tr>\n",
              "    <tr>\n",
              "      <th>11395</th>\n",
              "      <td>I knew from the moment I read \"Someone lives a...</td>\n",
              "      <td>['know', 'moment', 'read', 'someone', 'live', ...</td>\n",
              "      <td>5</td>\n",
              "      <td>1</td>\n",
              "    </tr>\n",
              "    <tr>\n",
              "      <th>11396</th>\n",
              "      <td>Originally at The Secret Life of a Bookworm \\n...</td>\n",
              "      <td>['originally', 'secret', 'life', 'bookworm', '...</td>\n",
              "      <td>5</td>\n",
              "      <td>1</td>\n",
              "    </tr>\n",
              "    <tr>\n",
              "      <th>11397</th>\n",
              "      <td>AHHHHHHH MY KAIDAN, OHHH KAIDAN!!!!!!!!!! \\n A...</td>\n",
              "      <td>['ahhhhhhh', 'kaidan', 'ohhh', 'kaidan', 'awww...</td>\n",
              "      <td>5</td>\n",
              "      <td>1</td>\n",
              "    </tr>\n",
              "    <tr>\n",
              "      <th>11398</th>\n",
              "      <td>This is my kind of book. It carefully touched ...</td>\n",
              "      <td>['kind', 'book', 'carefully', 'touch', 'theme'...</td>\n",
              "      <td>5</td>\n",
              "      <td>1</td>\n",
              "    </tr>\n",
              "    <tr>\n",
              "      <th>11399</th>\n",
              "      <td>I've enjoyed this whole series about the fae a...</td>\n",
              "      <td>['enjoy', 'whole', 'series', 'about', 'fae', '...</td>\n",
              "      <td>5</td>\n",
              "      <td>1</td>\n",
              "    </tr>\n",
              "  </tbody>\n",
              "</table>\n",
              "<p>11400 rows × 4 columns</p>\n",
              "</div>"
            ],
            "text/plain": [
              "                                                  review  \\\n",
              "0      Ugh I hated the last book in this series- what...   \n",
              "1      This started out strong, but it went downhill ...   \n",
              "2      A decently written YA book, but I can't even c...   \n",
              "3      This book simultaneously bored me to death and...   \n",
              "4      Ugh...I tried, I honestly tried. I'm a huge fa...   \n",
              "...                                                  ...   \n",
              "11395  I knew from the moment I read \"Someone lives a...   \n",
              "11396  Originally at The Secret Life of a Bookworm \\n...   \n",
              "11397  AHHHHHHH MY KAIDAN, OHHH KAIDAN!!!!!!!!!! \\n A...   \n",
              "11398  This is my kind of book. It carefully touched ...   \n",
              "11399  I've enjoyed this whole series about the fae a...   \n",
              "\n",
              "                                                    text  rating  sentiment  \n",
              "0      ['ugh', 'hat', 'last', 'book', 'in', 'series',...       1          0  \n",
              "1      ['start', 'out', 'strong', 'but', 'go', 'downh...       1          0  \n",
              "2      ['decently', 'write', 'ya', 'book', 'but', 'ca...       1          0  \n",
              "3      ['book', 'simultaneously', 'bore', 'death', 'a...       1          0  \n",
              "4      ['ugh', 'try', 'honestly', 'try', 'huge', 'fan...       1          0  \n",
              "...                                                  ...     ...        ...  \n",
              "11395  ['know', 'moment', 'read', 'someone', 'live', ...       5          1  \n",
              "11396  ['originally', 'secret', 'life', 'bookworm', '...       5          1  \n",
              "11397  ['ahhhhhhh', 'kaidan', 'ohhh', 'kaidan', 'awww...       5          1  \n",
              "11398  ['kind', 'book', 'carefully', 'touch', 'theme'...       5          1  \n",
              "11399  ['enjoy', 'whole', 'series', 'about', 'fae', '...       5          1  \n",
              "\n",
              "[11400 rows x 4 columns]"
            ]
          },
          "execution_count": 6,
          "metadata": {},
          "output_type": "execute_result"
        }
      ],
      "source": [
        "df = pd.read_csv(\"cleaned_data/cleaned_reviews_3.csv\")\n",
        "df"
      ]
    },
    {
      "cell_type": "code",
      "execution_count": 7,
      "metadata": {
        "colab": {
          "base_uri": "https://localhost:8080/",
          "height": 204
        },
        "id": "jOZm9DNUDYq-",
        "outputId": "fb7d82e8-c5c3-41b0-d038-f8febbc8de7a"
      },
      "outputs": [
        {
          "data": {
            "text/html": [
              "<div>\n",
              "<style scoped>\n",
              "    .dataframe tbody tr th:only-of-type {\n",
              "        vertical-align: middle;\n",
              "    }\n",
              "\n",
              "    .dataframe tbody tr th {\n",
              "        vertical-align: top;\n",
              "    }\n",
              "\n",
              "    .dataframe thead th {\n",
              "        text-align: right;\n",
              "    }\n",
              "</style>\n",
              "<table border=\"1\" class=\"dataframe\">\n",
              "  <thead>\n",
              "    <tr style=\"text-align: right;\">\n",
              "      <th></th>\n",
              "      <th>review</th>\n",
              "      <th>text</th>\n",
              "      <th>rating</th>\n",
              "      <th>sentiment</th>\n",
              "      <th>detoken</th>\n",
              "    </tr>\n",
              "  </thead>\n",
              "  <tbody>\n",
              "    <tr>\n",
              "      <th>0</th>\n",
              "      <td>Ugh I hated the last book in this series- what...</td>\n",
              "      <td>[ugh, hat, last, book, in, series, poor, way, ...</td>\n",
              "      <td>1</td>\n",
              "      <td>0</td>\n",
              "      <td>ugh hat last book in series poor way end trilogy</td>\n",
              "    </tr>\n",
              "    <tr>\n",
              "      <th>1</th>\n",
              "      <td>This started out strong, but it went downhill ...</td>\n",
              "      <td>[start, out, strong, but, go, downhill, fairly...</td>\n",
              "      <td>1</td>\n",
              "      <td>0</td>\n",
              "      <td>start out strong but go downhill fairly quickl...</td>\n",
              "    </tr>\n",
              "    <tr>\n",
              "      <th>2</th>\n",
              "      <td>A decently written YA book, but I can't even c...</td>\n",
              "      <td>[decently, write, ya, book, but, can, even, co...</td>\n",
              "      <td>1</td>\n",
              "      <td>0</td>\n",
              "      <td>decently write ya book but can even consider e...</td>\n",
              "    </tr>\n",
              "    <tr>\n",
              "      <th>3</th>\n",
              "      <td>This book simultaneously bored me to death and...</td>\n",
              "      <td>[book, simultaneously, bore, death, annoy, hel...</td>\n",
              "      <td>1</td>\n",
              "      <td>0</td>\n",
              "      <td>book simultaneously bore death annoy hell out ...</td>\n",
              "    </tr>\n",
              "    <tr>\n",
              "      <th>4</th>\n",
              "      <td>Ugh...I tried, I honestly tried. I'm a huge fa...</td>\n",
              "      <td>[ugh, try, honestly, try, huge, fan, scott, we...</td>\n",
              "      <td>1</td>\n",
              "      <td>0</td>\n",
              "      <td>ugh try honestly try huge fan scott westerfeld...</td>\n",
              "    </tr>\n",
              "  </tbody>\n",
              "</table>\n",
              "</div>"
            ],
            "text/plain": [
              "                                              review  \\\n",
              "0  Ugh I hated the last book in this series- what...   \n",
              "1  This started out strong, but it went downhill ...   \n",
              "2  A decently written YA book, but I can't even c...   \n",
              "3  This book simultaneously bored me to death and...   \n",
              "4  Ugh...I tried, I honestly tried. I'm a huge fa...   \n",
              "\n",
              "                                                text  rating  sentiment  \\\n",
              "0  [ugh, hat, last, book, in, series, poor, way, ...       1          0   \n",
              "1  [start, out, strong, but, go, downhill, fairly...       1          0   \n",
              "2  [decently, write, ya, book, but, can, even, co...       1          0   \n",
              "3  [book, simultaneously, bore, death, annoy, hel...       1          0   \n",
              "4  [ugh, try, honestly, try, huge, fan, scott, we...       1          0   \n",
              "\n",
              "                                             detoken  \n",
              "0   ugh hat last book in series poor way end trilogy  \n",
              "1  start out strong but go downhill fairly quickl...  \n",
              "2  decently write ya book but can even consider e...  \n",
              "3  book simultaneously bore death annoy hell out ...  \n",
              "4  ugh try honestly try huge fan scott westerfeld...  "
            ]
          },
          "execution_count": 7,
          "metadata": {},
          "output_type": "execute_result"
        }
      ],
      "source": [
        "df[\"text\"] = df[\"text\"].apply(lambda x: ast.literal_eval(x))\n",
        "df[\"detoken\"] = df[\"text\"].apply(lambda y: TreebankWordDetokenizer().tokenize(y))\n",
        "df.head()"
      ]
    },
    {
      "cell_type": "code",
      "execution_count": 12,
      "metadata": {
        "colab": {
          "base_uri": "https://localhost:8080/"
        },
        "id": "AcImdoAtDYq_",
        "outputId": "9ee4729c-5cd5-46b8-c308-0e1b5077b8ca"
      },
      "outputs": [
        {
          "name": "stdout",
          "output_type": "stream",
          "text": [
            "There are 825119 train words in total and the vocabulary size is 24637.\n"
          ]
        }
      ],
      "source": [
        "df_pos, df_neg = split_sentiment(df)\n",
        "df_train, df_test = split_train_test(df_pos, df_neg, 1003)\n",
        "\n",
        "train_words = [word for text in df_train[\"text\"] for word in text]\n",
        "train_text_length = [len(text) for text in df_train[\"text\"]]\n",
        "\n",
        "vocab = list(set(train_words))\n",
        "vocab_size = len(vocab)\n",
        "\n",
        "print(f\"There are {len(train_words)} train words in total and the vocabulary size is {vocab_size}.\")"
      ]
    },
    {
      "cell_type": "code",
      "execution_count": 9,
      "metadata": {
        "colab": {
          "base_uri": "https://localhost:8080/"
        },
        "id": "o1x1qaEWDYrA",
        "outputId": "96744c30-8f17-4aa9-c538-a91bc2eee763"
      },
      "outputs": [
        {
          "name": "stdout",
          "output_type": "stream",
          "text": [
            "200\n",
            "(9120, 200)\n",
            "(2280, 200)\n",
            "(9120,)\n",
            "(2280,)\n",
            "Found 24513 unique tokens\n"
          ]
        }
      ],
      "source": [
        "train_data = df_train[\"detoken\"].tolist()\n",
        "test_data = df_test[\"detoken\"].tolist()\n",
        "\n",
        "tokenizer = Tokenizer(num_words=20000)\n",
        "tokenizer.fit_on_texts(train_data)\n",
        "\n",
        "word_index = tokenizer.word_index\n",
        "\n",
        "train_sequences = tokenizer.texts_to_sequences(train_data)\n",
        "test_sequences = tokenizer.texts_to_sequences(test_data)\n",
        "\n",
        "# max_length = max(max([len(x) for x in train_sequences]), max([len(x) for x in test_sequences]))\n",
        "max_length = 200\n",
        "\n",
        "x_train_padded = pad_sequences(train_sequences, maxlen=max_length, padding=\"post\")\n",
        "x_test_padded = pad_sequences(test_sequences, maxlen=max_length, padding=\"post\")\n",
        "\n",
        "ytrain, ytest = np.asarray(df_train[\"sentiment\"]), np.asarray(df_test[\"sentiment\"])\n",
        "\n",
        "print(max_length)\n",
        "print(x_train_padded.shape)\n",
        "print(x_test_padded.shape)\n",
        "print(ytrain.shape)\n",
        "print(ytest.shape)\n",
        "print(f\"Found {len(word_index)} unique tokens\")"
      ]
    },
    {
      "cell_type": "code",
      "execution_count": 10,
      "metadata": {},
      "outputs": [],
      "source": [
        "embeddings_dict = {}\n",
        "with open(\"glove.42B.300d.txt\", \"r\", encoding=\"utf-8\") as f:\n",
        "    for line in f:\n",
        "        values = line.split()\n",
        "        token = values[0]\n",
        "        vector = np.asarray(values[1:], \"float32\")\n",
        "        embeddings_dict[token] = vector"
      ]
    },
    {
      "cell_type": "code",
      "execution_count": 11,
      "metadata": {},
      "outputs": [
        {
          "name": "stdout",
          "output_type": "stream",
          "text": [
            "Glove embeddings cover 94.17% of vocabulary and 99.75% text in training set\n",
            "Glove embeddings cover 94.81% of vocabulary and 99.54% text in testing set\n"
          ]
        }
      ],
      "source": [
        "def vocab_build(review_set):\n",
        "\n",
        "    vocab = Counter()\n",
        "\n",
        "    for review in review_set:\n",
        "        for token in review:\n",
        "            vocab[token] += 1\n",
        "\n",
        "    return vocab\n",
        "\n",
        "def embedding_coverage(review_set, embeddings_dict):\n",
        "    \n",
        "    vocab = vocab_build(review_set)\n",
        "\n",
        "    covered = {}\n",
        "    word_count = {}\n",
        "    oov = {}\n",
        "    covered_num = 0\n",
        "    oov_num = 0\n",
        "\n",
        "    for word in vocab:\n",
        "        try:\n",
        "            covered[word] = embeddings_dict[word]\n",
        "            covered_num += vocab[word]\n",
        "            word_count[word] = vocab[word]\n",
        "        \n",
        "        except:\n",
        "            oov[word] = vocab[word]\n",
        "            oov_num += oov[word]\n",
        "\n",
        "    vocab_coverage = len(covered) / len(vocab) * 100\n",
        "    text_coverage = covered_num / (covered_num + oov_num) * 100\n",
        "    \n",
        "    return word_count, oov, vocab_coverage, text_coverage\n",
        "\n",
        "train_covered, train_oov, train_vocab_coverage, train_text_coverage = embedding_coverage(df_train[\"text\"], embeddings_dict)\n",
        "test_covered, test_oov, test_vocab_coverage, test_text_coverage = embedding_coverage(df_test[\"text\"],embeddings_dict)\n",
        "\n",
        "print(f\"Glove embeddings cover {round(train_vocab_coverage,2)}% of vocabulary and {round(train_text_coverage,2)}% text in training set\")\n",
        "print(f\"Glove embeddings cover {round(test_vocab_coverage,2)}% of vocabulary and {round(test_text_coverage,2)}% text in testing set\")"
      ]
    },
    {
      "cell_type": "code",
      "execution_count": 24,
      "metadata": {},
      "outputs": [],
      "source": [
        "EMBEDDING_DIM = 300\n",
        "MAX_WORDS = 20000\n",
        "vocab_size = min(len(word_index) + 1, MAX_WORDS)\n",
        "\n",
        "embedding_matrix = np.zeros((vocab_size, EMBEDDING_DIM))\n",
        "\n",
        "for word, i in word_index.items():\n",
        "    if i >= MAX_WORDS:\n",
        "        continue\n",
        "    \n",
        "    try:\n",
        "        embedding_vector = embeddings_dict[word]\n",
        "        embedding_matrix[i] = embedding_vector\n",
        "    \n",
        "    except KeyError:\n",
        "        embedding_vector = np.zeros(EMBEDDING_DIM)\n",
        "        embedding_matrix[i] = embedding_vector\n",
        "\n",
        "embedding_layer = Embedding(vocab_size, EMBEDDING_DIM, weights=[embedding_matrix], input_length=max_length, trainable=True)\n",
        "\n",
        "del(embedding_matrix)"
      ]
    },
    {
      "cell_type": "code",
      "execution_count": 27,
      "metadata": {},
      "outputs": [
        {
          "name": "stdout",
          "output_type": "stream",
          "text": [
            "Model: \"model_2\"\n",
            "_________________________________________________________________\n",
            " Layer (type)                Output Shape              Param #   \n",
            "=================================================================\n",
            " input_7 (InputLayer)        [(None, 200)]             0         \n",
            "                                                                 \n",
            " embedding_1 (Embedding)     (None, 200, 300)          6000000   \n",
            "                                                                 \n",
            " conv1d_5 (Conv1D)           (None, 191, 256)          768256    \n",
            "                                                                 \n",
            " bidirectional (Bidirectiona  (None, 191, 256)         394240    \n",
            " l)                                                              \n",
            "                                                                 \n",
            " lstm_7 (LSTM)               (None, 64)                82176     \n",
            "                                                                 \n",
            " dropout_9 (Dropout)         (None, 64)                0         \n",
            "                                                                 \n",
            " dense_7 (Dense)             (None, 32)                2080      \n",
            "                                                                 \n",
            " dense_8 (Dense)             (None, 1)                 33        \n",
            "                                                                 \n",
            "=================================================================\n",
            "Total params: 7,246,785\n",
            "Trainable params: 7,246,785\n",
            "Non-trainable params: 0\n",
            "_________________________________________________________________\n",
            "None\n"
          ]
        }
      ],
      "source": [
        "sequence_input = Input(shape=(max_length,), dtype=\"int32\")\n",
        "embedded_sequences = embedding_layer(sequence_input)\n",
        "x = Conv1D(256, 10, activation=\"relu\")(embedded_sequences)\n",
        "x = Bidirectional(LSTM(128, return_sequences=True))(x)\n",
        "x = LSTM(64)(x)\n",
        "x = Dropout(0.2)(x)\n",
        "x = Dense(32, activation='relu')(x)\n",
        "preds = Dense(1, activation='sigmoid')(x)\n",
        "\n",
        "model = Model(sequence_input, preds)\n",
        "\n",
        "print(model.summary())"
      ]
    },
    {
      "cell_type": "code",
      "execution_count": 28,
      "metadata": {
        "id": "yybMVpy9KxtE"
      },
      "outputs": [],
      "source": [
        "# Compile model\n",
        "\n",
        "EPOCHS = 10\n",
        "LEARNING_RATE = 0.0001\n",
        "# DECAY_RATE = LEARNING_RATE / EPOCHS\n",
        "\n",
        "optimizer = Adam(learning_rate=LEARNING_RATE)\n",
        "\n",
        "model.compile(optimizer=optimizer, loss=\"binary_crossentropy\", metrics=[\"accuracy\"])"
      ]
    },
    {
      "cell_type": "code",
      "execution_count": 30,
      "metadata": {},
      "outputs": [
        {
          "name": "stdout",
          "output_type": "stream",
          "text": [
            "Epoch 1/10\n",
            "200/200 [==============================] - 252s 1s/step - loss: 0.6503 - accuracy: 0.6412 - val_loss: 0.9575 - val_accuracy: 0.1134\n",
            "Epoch 2/10\n",
            "200/200 [==============================] - 218s 1s/step - loss: 0.6306 - accuracy: 0.6548 - val_loss: 0.9628 - val_accuracy: 0.1422\n",
            "Epoch 3/10\n",
            "200/200 [==============================] - 186s 932ms/step - loss: 0.6152 - accuracy: 0.6692 - val_loss: 0.8024 - val_accuracy: 0.1988\n",
            "Epoch 4/10\n",
            "200/200 [==============================] - 166s 833ms/step - loss: 0.6081 - accuracy: 0.6808 - val_loss: 0.9858 - val_accuracy: 0.1166\n",
            "Epoch 5/10\n",
            "200/200 [==============================] - 171s 858ms/step - loss: 0.6383 - accuracy: 0.6432 - val_loss: 0.9869 - val_accuracy: 0.1234\n",
            "Epoch 6/10\n",
            "200/200 [==============================] - 189s 948ms/step - loss: 0.6147 - accuracy: 0.6698 - val_loss: 0.8229 - val_accuracy: 0.1887\n",
            "Epoch 7/10\n",
            "200/200 [==============================] - 220s 1s/step - loss: 0.6324 - accuracy: 0.6543 - val_loss: 0.9577 - val_accuracy: 0.1238\n",
            "Epoch 8/10\n",
            "200/200 [==============================] - 229s 1s/step - loss: 0.5648 - accuracy: 0.7095 - val_loss: 0.7224 - val_accuracy: 0.8175\n",
            "Epoch 9/10\n",
            "200/200 [==============================] - 233s 1s/step - loss: 0.5468 - accuracy: 0.7288 - val_loss: 0.4818 - val_accuracy: 0.9994\n",
            "Epoch 10/10\n",
            "200/200 [==============================] - 229s 1s/step - loss: 0.6676 - accuracy: 0.6151 - val_loss: 0.9564 - val_accuracy: 0.1088\n"
          ]
        }
      ],
      "source": [
        "# Fit model\n",
        "\n",
        "BATCH_SIZE = 64\n",
        "\n",
        "# callbacks = [EarlyStopping(monitor='val_loss')]\n",
        "\n",
        "history = model.fit(x_train_padded, ytrain, batch_size=BATCH_SIZE, epochs=EPOCHS, verbose=1, validation_split=0.2)"
      ]
    },
    {
      "cell_type": "code",
      "execution_count": 16,
      "metadata": {
        "id": "IFuqTC4DAy6L"
      },
      "outputs": [
        {
          "data": {
            "image/png": "[encoded data removed]",
            "text/plain": [
              "<Figure size 432x288 with 1 Axes>"
            ]
          },
          "metadata": {
            "needs_background": "light"
          },
          "output_type": "display_data"
        },
        {
          "data": {
            "image/png": "[encoded data removed]",
            "text/plain": [
              "<Figure size 432x288 with 1 Axes>"
            ]
          },
          "metadata": {
            "needs_background": "light"
          },
          "output_type": "display_data"
        }
      ],
      "source": [
        "# Plot accuracy and loss\n",
        "plot_history(history)"
      ]
    },
    {
      "cell_type": "code",
      "execution_count": 17,
      "metadata": {
        "id": "HGelOCqODYrD"
      },
      "outputs": [
        {
          "name": "stdout",
          "output_type": "stream",
          "text": [
            "125/125 - 13s - loss: 0.9092 - accuracy: 0.8562 - 13s/epoch - 108ms/step\n",
            "Test accuracy: 0.856249988079071\n"
          ]
        }
      ],
      "source": [
        "# Evaluate model\n",
        "\n",
        "loss, accuracy = model.evaluate(x_test_padded, ytest, verbose=2)\n",
        "\n",
        "print(f\"Test accuracy: {accuracy}\")"
      ]
    }
  ],
  "metadata": {
    "accelerator": "GPU",
    "colab": {
      "name": "rnn.ipynb",
      "provenance": []
    },
    "interpreter": {
      "hash": "bbdeae21cd698169d80b8f85757407d35b6d9920a79c4c6b4fbd15284371fc7c"
    },
    "kernelspec": {
      "display_name": "Python 3.9.7 64-bit ('final': conda)",
      "language": "python",
      "name": "python3"
    },
    "language_info": {
      "codemirror_mode": {
        "name": "ipython",
        "version": 3
      },
      "file_extension": ".py",
      "mimetype": "text/x-python",
      "name": "python",
      "nbconvert_exporter": "python",
      "pygments_lexer": "ipython3",
      "version": "3.9.7"
    },
    "orig_nbformat": 4
  },
  "nbformat": 4,
  "nbformat_minor": 0
}
