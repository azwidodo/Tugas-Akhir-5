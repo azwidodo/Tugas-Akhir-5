{
 "cells": [
  {
   "cell_type": "code",
   "execution_count": 2,
   "metadata": {},
   "outputs": [],
   "source": [
    "import json\n",
    "import csv\n",
    "import pandas as pd\n",
    "import langid\n",
    "from langdetect import detect\n",
    "from textblob import TextBlob"
   ]
  },
  {
   "cell_type": "code",
   "execution_count": 3,
   "metadata": {},
   "outputs": [],
   "source": [
    "data = {\n",
    "    \"review_id\": [],\n",
    "    \"rating\": [],\n",
    "    \"review_text\": [],\n",
    "}"
   ]
  },
  {
   "cell_type": "code",
   "execution_count": 4,
   "metadata": {},
   "outputs": [],
   "source": [
    "# LANGDETECT\n",
    "\n",
    "# with open(\"young_adult.json\") as f:\n",
    "#     for line in f:\n",
    "#         line_object = json.loads(line)\n",
    "\n",
    "#         try:\n",
    "        \n",
    "#             if detect(line_object[\"review_text\"]) == \"en\":\n",
    "\n",
    "#                 data[\"book_id\"].append(line_object[\"book_id\"])\n",
    "#                 data[\"review_id\"].append(line_object[\"review_id\"])\n",
    "#                 data[\"rating\"].append(line_object[\"rating\"])\n",
    "#                 data[\"review_text\"].append(line_object[\"review_text\"])\n",
    "        \n",
    "#         except:\n",
    "#             pass\n"
   ]
  },
  {
   "cell_type": "code",
   "execution_count": 5,
   "metadata": {},
   "outputs": [
    {
     "name": "stdout",
     "output_type": "stream",
     "text": [
      "Progress: 10000\n",
      "Progress: 20000\n",
      "Progress: 30000\n",
      "Progress: 40000\n",
      "Progress: 50000\n",
      "Progress: 60000\n",
      "Progress: 70000\n",
      "Progress: 80000\n",
      "Progress: 90000\n",
      "Progress: 100000\n",
      "Progress: 110000\n",
      "Progress: 120000\n",
      "Progress: 130000\n",
      "Progress: 140000\n",
      "Progress: 150000\n",
      "Progress: 160000\n",
      "Progress: 170000\n",
      "Progress: 180000\n",
      "Progress: 190000\n",
      "Progress: 200000\n",
      "~~~~~ FINISHED ~~~~~\n"
     ]
    }
   ],
   "source": [
    "# LANGID\n",
    "\n",
    "with open(\"goodreads_reviews_young_adult.json\") as f:\n",
    "    i = 0\n",
    "    for line in f:\n",
    "        line_object = json.loads(line)\n",
    "        i += 1\n",
    "\n",
    "        if i%10000 == 0:\n",
    "            print(f\"Progress: {i}\")\n",
    "\n",
    "        try:\n",
    "        \n",
    "            if langid.classify(line_object[\"review_text\"])[0] == \"en\":\n",
    "\n",
    "                data[\"review_id\"].append(line_object[\"review_id\"])\n",
    "                data[\"rating\"].append(line_object[\"rating\"])\n",
    "                data[\"review_text\"].append(line_object[\"review_text\"])\n",
    "        \n",
    "        except:\n",
    "            pass\n",
    "\n",
    "        if i > 200000:\n",
    "            break\n",
    "\n",
    "    print(\"~~~~~ FINISHED ~~~~~\")"
   ]
  },
  {
   "cell_type": "code",
   "execution_count": 9,
   "metadata": {},
   "outputs": [
    {
     "data": {
      "text/html": [
       "<div>\n",
       "<style scoped>\n",
       "    .dataframe tbody tr th:only-of-type {\n",
       "        vertical-align: middle;\n",
       "    }\n",
       "\n",
       "    .dataframe tbody tr th {\n",
       "        vertical-align: top;\n",
       "    }\n",
       "\n",
       "    .dataframe thead th {\n",
       "        text-align: right;\n",
       "    }\n",
       "</style>\n",
       "<table border=\"1\" class=\"dataframe\">\n",
       "  <thead>\n",
       "    <tr style=\"text-align: right;\">\n",
       "      <th></th>\n",
       "      <th>review_id</th>\n",
       "      <th>rating</th>\n",
       "      <th>review_text</th>\n",
       "    </tr>\n",
       "  </thead>\n",
       "  <tbody>\n",
       "    <tr>\n",
       "      <th>0</th>\n",
       "      <td>248c011811e945eca861b5c31a549291</td>\n",
       "      <td>5</td>\n",
       "      <td>I cracked and finally picked this up. Very enj...</td>\n",
       "    </tr>\n",
       "    <tr>\n",
       "      <th>1</th>\n",
       "      <td>84c0936a0f9868f38e75d2f9a5cb761e</td>\n",
       "      <td>5</td>\n",
       "      <td>I read this book because my fifth grade son wa...</td>\n",
       "    </tr>\n",
       "    <tr>\n",
       "      <th>2</th>\n",
       "      <td>785c8db878f4009da9741dea51f641da</td>\n",
       "      <td>4</td>\n",
       "      <td>Though the book started out slow and only star...</td>\n",
       "    </tr>\n",
       "    <tr>\n",
       "      <th>3</th>\n",
       "      <td>34dc3c45d07e82718b05e73167259aef</td>\n",
       "      <td>2</td>\n",
       "      <td>*Update - 10/27/13* - After some sleep, I thin...</td>\n",
       "    </tr>\n",
       "    <tr>\n",
       "      <th>4</th>\n",
       "      <td>d8d6b590780256fef7ae4a9550fe3e0d</td>\n",
       "      <td>5</td>\n",
       "      <td>This is a moving, heartbreaking, view into a l...</td>\n",
       "    </tr>\n",
       "  </tbody>\n",
       "</table>\n",
       "</div>"
      ],
      "text/plain": [
       "                          review_id  rating  \\\n",
       "0  248c011811e945eca861b5c31a549291       5   \n",
       "1  84c0936a0f9868f38e75d2f9a5cb761e       5   \n",
       "2  785c8db878f4009da9741dea51f641da       4   \n",
       "3  34dc3c45d07e82718b05e73167259aef       2   \n",
       "4  d8d6b590780256fef7ae4a9550fe3e0d       5   \n",
       "\n",
       "                                         review_text  \n",
       "0  I cracked and finally picked this up. Very enj...  \n",
       "1  I read this book because my fifth grade son wa...  \n",
       "2  Though the book started out slow and only star...  \n",
       "3  *Update - 10/27/13* - After some sleep, I thin...  \n",
       "4  This is a moving, heartbreaking, view into a l...  "
      ]
     },
     "execution_count": 9,
     "metadata": {},
     "output_type": "execute_result"
    }
   ],
   "source": [
    "df = pd.DataFrame(data)"
   ]
  },
  {
   "cell_type": "code",
   "execution_count": 10,
   "metadata": {},
   "outputs": [
    {
     "data": {
      "text/html": [
       "<div>\n",
       "<style scoped>\n",
       "    .dataframe tbody tr th:only-of-type {\n",
       "        vertical-align: middle;\n",
       "    }\n",
       "\n",
       "    .dataframe tbody tr th {\n",
       "        vertical-align: top;\n",
       "    }\n",
       "\n",
       "    .dataframe thead th {\n",
       "        text-align: right;\n",
       "    }\n",
       "</style>\n",
       "<table border=\"1\" class=\"dataframe\">\n",
       "  <thead>\n",
       "    <tr style=\"text-align: right;\">\n",
       "      <th></th>\n",
       "      <th>rating</th>\n",
       "      <th>review_text</th>\n",
       "    </tr>\n",
       "    <tr>\n",
       "      <th>review_id</th>\n",
       "      <th></th>\n",
       "      <th></th>\n",
       "    </tr>\n",
       "  </thead>\n",
       "  <tbody>\n",
       "    <tr>\n",
       "      <th>248c011811e945eca861b5c31a549291</th>\n",
       "      <td>5</td>\n",
       "      <td>I cracked and finally picked this up. Very enj...</td>\n",
       "    </tr>\n",
       "    <tr>\n",
       "      <th>84c0936a0f9868f38e75d2f9a5cb761e</th>\n",
       "      <td>5</td>\n",
       "      <td>I read this book because my fifth grade son wa...</td>\n",
       "    </tr>\n",
       "    <tr>\n",
       "      <th>785c8db878f4009da9741dea51f641da</th>\n",
       "      <td>4</td>\n",
       "      <td>Though the book started out slow and only star...</td>\n",
       "    </tr>\n",
       "    <tr>\n",
       "      <th>34dc3c45d07e82718b05e73167259aef</th>\n",
       "      <td>2</td>\n",
       "      <td>*Update - 10/27/13* - After some sleep, I thin...</td>\n",
       "    </tr>\n",
       "    <tr>\n",
       "      <th>d8d6b590780256fef7ae4a9550fe3e0d</th>\n",
       "      <td>5</td>\n",
       "      <td>This is a moving, heartbreaking, view into a l...</td>\n",
       "    </tr>\n",
       "  </tbody>\n",
       "</table>\n",
       "</div>"
      ],
      "text/plain": [
       "                                  rating  \\\n",
       "review_id                                  \n",
       "248c011811e945eca861b5c31a549291       5   \n",
       "84c0936a0f9868f38e75d2f9a5cb761e       5   \n",
       "785c8db878f4009da9741dea51f641da       4   \n",
       "34dc3c45d07e82718b05e73167259aef       2   \n",
       "d8d6b590780256fef7ae4a9550fe3e0d       5   \n",
       "\n",
       "                                                                        review_text  \n",
       "review_id                                                                            \n",
       "248c011811e945eca861b5c31a549291  I cracked and finally picked this up. Very enj...  \n",
       "84c0936a0f9868f38e75d2f9a5cb761e  I read this book because my fifth grade son wa...  \n",
       "785c8db878f4009da9741dea51f641da  Though the book started out slow and only star...  \n",
       "34dc3c45d07e82718b05e73167259aef  *Update - 10/27/13* - After some sleep, I thin...  \n",
       "d8d6b590780256fef7ae4a9550fe3e0d  This is a moving, heartbreaking, view into a l...  "
      ]
     },
     "execution_count": 10,
     "metadata": {},
     "output_type": "execute_result"
    }
   ],
   "source": [
    "# df = pd.read_csv('all_reviews.csv')\n",
    "# df.drop(columns=[\"user_id\", \"book_id\", \"date_added\", \"date_updated\", \"read_at\", \"started_at\", \"n_votes\", \"n_comments\"], inplace=True)\n",
    "df.set_index(\"review_id\", inplace=True)\n",
    "df.head()"
   ]
  },
  {
   "cell_type": "code",
   "execution_count": 11,
   "metadata": {},
   "outputs": [
    {
     "data": {
      "text/plain": [
       "(186471, 2)"
      ]
     },
     "execution_count": 11,
     "metadata": {},
     "output_type": "execute_result"
    }
   ],
   "source": [
    "df.shape"
   ]
  },
  {
   "cell_type": "code",
   "execution_count": 12,
   "metadata": {},
   "outputs": [
    {
     "data": {
      "text/html": [
       "<div>\n",
       "<style scoped>\n",
       "    .dataframe tbody tr th:only-of-type {\n",
       "        vertical-align: middle;\n",
       "    }\n",
       "\n",
       "    .dataframe tbody tr th {\n",
       "        vertical-align: top;\n",
       "    }\n",
       "\n",
       "    .dataframe thead th {\n",
       "        text-align: right;\n",
       "    }\n",
       "</style>\n",
       "<table border=\"1\" class=\"dataframe\">\n",
       "  <thead>\n",
       "    <tr style=\"text-align: right;\">\n",
       "      <th></th>\n",
       "      <th>rating</th>\n",
       "      <th>review_text</th>\n",
       "    </tr>\n",
       "    <tr>\n",
       "      <th>review_id</th>\n",
       "      <th></th>\n",
       "      <th></th>\n",
       "    </tr>\n",
       "  </thead>\n",
       "  <tbody>\n",
       "    <tr>\n",
       "      <th>ea412628dfa97924000cc07dc7c445b4</th>\n",
       "      <td>5</td>\n",
       "      <td>A truly original fantasy. The Bone Witch was a...</td>\n",
       "    </tr>\n",
       "    <tr>\n",
       "      <th>2c5cb7e9b432985cfe7fde560bcd25cd</th>\n",
       "      <td>4</td>\n",
       "      <td>Celeste does not deserve to die... Why just wh...</td>\n",
       "    </tr>\n",
       "    <tr>\n",
       "      <th>6a55a2578cb69cbc9f258de694b1d222</th>\n",
       "      <td>3</td>\n",
       "      <td>Very good beginning of a series, but as a stan...</td>\n",
       "    </tr>\n",
       "    <tr>\n",
       "      <th>c344cbecbc224150b3bc46884976d8cf</th>\n",
       "      <td>4</td>\n",
       "      <td>I'm really enjoying this series! The writing i...</td>\n",
       "    </tr>\n",
       "    <tr>\n",
       "      <th>949a5435f7008fe9a48ce7411edc8c17</th>\n",
       "      <td>5</td>\n",
       "      <td>I love this series!</td>\n",
       "    </tr>\n",
       "    <tr>\n",
       "      <th>...</th>\n",
       "      <td>...</td>\n",
       "      <td>...</td>\n",
       "    </tr>\n",
       "    <tr>\n",
       "      <th>e87b8479f45dd776dba8ffd47ff1819c</th>\n",
       "      <td>5</td>\n",
       "      <td>This is a wonderful story of friendship, compa...</td>\n",
       "    </tr>\n",
       "    <tr>\n",
       "      <th>3c1d0e25187345717d6851a5df9ff66a</th>\n",
       "      <td>3</td>\n",
       "      <td>I love nine and I actually hope he and six lan...</td>\n",
       "    </tr>\n",
       "    <tr>\n",
       "      <th>574378d84dd83b3ddda27362e03c56cb</th>\n",
       "      <td>3</td>\n",
       "      <td>I'm technically giving this 2.5 stars but roun...</td>\n",
       "    </tr>\n",
       "    <tr>\n",
       "      <th>c230cac84d0ce76791c5d25951144a7d</th>\n",
       "      <td>5</td>\n",
       "      <td>That was emotionally exhausting.</td>\n",
       "    </tr>\n",
       "    <tr>\n",
       "      <th>784177ab29078ef0a4822bb9ce65c21a</th>\n",
       "      <td>5</td>\n",
       "      <td>This book just ripped my heart out. I don't th...</td>\n",
       "    </tr>\n",
       "  </tbody>\n",
       "</table>\n",
       "<p>100 rows × 2 columns</p>\n",
       "</div>"
      ],
      "text/plain": [
       "                                  rating  \\\n",
       "review_id                                  \n",
       "ea412628dfa97924000cc07dc7c445b4       5   \n",
       "2c5cb7e9b432985cfe7fde560bcd25cd       4   \n",
       "6a55a2578cb69cbc9f258de694b1d222       3   \n",
       "c344cbecbc224150b3bc46884976d8cf       4   \n",
       "949a5435f7008fe9a48ce7411edc8c17       5   \n",
       "...                                  ...   \n",
       "e87b8479f45dd776dba8ffd47ff1819c       5   \n",
       "3c1d0e25187345717d6851a5df9ff66a       3   \n",
       "574378d84dd83b3ddda27362e03c56cb       3   \n",
       "c230cac84d0ce76791c5d25951144a7d       5   \n",
       "784177ab29078ef0a4822bb9ce65c21a       5   \n",
       "\n",
       "                                                                        review_text  \n",
       "review_id                                                                            \n",
       "ea412628dfa97924000cc07dc7c445b4  A truly original fantasy. The Bone Witch was a...  \n",
       "2c5cb7e9b432985cfe7fde560bcd25cd  Celeste does not deserve to die... Why just wh...  \n",
       "6a55a2578cb69cbc9f258de694b1d222  Very good beginning of a series, but as a stan...  \n",
       "c344cbecbc224150b3bc46884976d8cf  I'm really enjoying this series! The writing i...  \n",
       "949a5435f7008fe9a48ce7411edc8c17                                I love this series!  \n",
       "...                                                                             ...  \n",
       "e87b8479f45dd776dba8ffd47ff1819c  This is a wonderful story of friendship, compa...  \n",
       "3c1d0e25187345717d6851a5df9ff66a  I love nine and I actually hope he and six lan...  \n",
       "574378d84dd83b3ddda27362e03c56cb  I'm technically giving this 2.5 stars but roun...  \n",
       "c230cac84d0ce76791c5d25951144a7d                   That was emotionally exhausting.  \n",
       "784177ab29078ef0a4822bb9ce65c21a  This book just ripped my heart out. I don't th...  \n",
       "\n",
       "[100 rows x 2 columns]"
      ]
     },
     "execution_count": 12,
     "metadata": {},
     "output_type": "execute_result"
    }
   ],
   "source": [
    "df.sample(100)"
   ]
  },
  {
   "cell_type": "code",
   "execution_count": 13,
   "metadata": {},
   "outputs": [
    {
     "data": {
      "text/plain": [
       "4    61912\n",
       "5    59769\n",
       "3    39176\n",
       "2    14197\n",
       "0     5711\n",
       "1     5706\n",
       "Name: rating, dtype: int64"
      ]
     },
     "execution_count": 13,
     "metadata": {},
     "output_type": "execute_result"
    }
   ],
   "source": [
    "df[\"rating\"].value_counts()"
   ]
  },
  {
   "cell_type": "code",
   "execution_count": 14,
   "metadata": {},
   "outputs": [],
   "source": [
    "df_1 = df[df[\"rating\"] == 1].sample(5000)\n",
    "df_2 = df[df[\"rating\"] == 2].sample(5000)\n",
    "df_4 = df[df[\"rating\"] == 4].sample(5000)\n",
    "df_5 = df[df[\"rating\"] == 5].sample(5000)\n",
    "\n",
    "df_filtered = pd.concat([df_1, df_2, df_4, df_5])\n",
    "\n",
    "df_filtered.to_csv(\"reviews_filtered_2.csv\")"
   ]
  },
  {
   "cell_type": "code",
   "execution_count": 10,
   "metadata": {},
   "outputs": [
    {
     "name": "stdout",
     "output_type": "stream",
     "text": [
      "tr\n",
      "en\n"
     ]
    }
   ],
   "source": [
    "print(detect(\"Hizli okunuyor. Merak uyandiriyor ve sizi surukluyor, zaman gecirmek\"))\n",
    "print(langid.classify(\"What a great ending to the trilogy!! The second book was better than the first,\")[0])"
   ]
  },
  {
   "cell_type": "code",
   "execution_count": 11,
   "metadata": {},
   "outputs": [],
   "source": [
    "df2 = pd.read_csv(\"reviews.csv\")\n",
    "count = 0\n",
    "for index, row in df2.iterrows():\n",
    "\n",
    "    try:\n",
    "\n",
    "        if TextBlob(row[\"review_text\"]).detect_language() != \"en\":\n",
    "            count += 1\n",
    "\n",
    "    except:\n",
    "\n",
    "        count += 1\n"
   ]
  },
  {
   "cell_type": "code",
   "execution_count": 3,
   "metadata": {},
   "outputs": [],
   "source": [
    "# LARGE JSON TO LARGE CSV\n",
    "\n",
    "\n",
    "# with open('goodreads_reviews_young_adult.json') as json_file:\n",
    "#     jsondata = json.load(json_file)\n",
    " \n",
    "# data_file = open('all_reviews.csv', 'w', newline='')\n",
    "# csv_writer = csv.writer(data_file)\n",
    "\n",
    "# count = 0\n",
    "# for data in jsondata:\n",
    "#     if count == 0:\n",
    "#         header = data.keys()\n",
    "#         csv_writer.writerow(header)\n",
    "#         count += 1\n",
    "#     csv_writer.writerow(data.values())\n",
    " \n",
    "# data_file.close()"
   ]
  },
  {
   "cell_type": "code",
   "execution_count": null,
   "metadata": {},
   "outputs": [],
   "source": [
    "# f = open(\"goodreads_reviews_young_adult.json\", \"r+\")\n",
    "# # Create an array to hold write data\n",
    "# new_file = []\n",
    "# # Loop the file line by line\n",
    "# for line in f:\n",
    "#   # Split A,B on , and use first position [0], aka A, then add to the new array\n",
    "#   new_line = line + \",\"\n",
    "#   # Add\n",
    "#   new_file.append(new_line)\n",
    "# # Open the file as Write, loop the new array and write with a newline\n",
    "# with open(\"goodreads_reviews_young_adult.json\", \"w+\") as f:\n",
    "#   for i in new_file:\n",
    "#     f.write(i+\"\\n\")"
   ]
  }
 ],
 "metadata": {
  "interpreter": {
   "hash": "ffacde34d377ec20e077de15a56948682739e370c5ba5f1eb71d103eab7b48a2"
  },
  "kernelspec": {
   "display_name": "Python 3.9.0 64-bit ('final': conda)",
   "name": "python3"
  },
  "language_info": {
   "codemirror_mode": {
    "name": "ipython",
    "version": 3
   },
   "file_extension": ".py",
   "mimetype": "text/x-python",
   "name": "python",
   "nbconvert_exporter": "python",
   "pygments_lexer": "ipython3",
   "version": "3.9.7"
  },
  "orig_nbformat": 4
 },
 "nbformat": 4,
 "nbformat_minor": 2
}
